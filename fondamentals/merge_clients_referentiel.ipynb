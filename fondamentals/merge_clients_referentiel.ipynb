{
 "cells": [
  {
   "cell_type": "code",
   "execution_count": 2,
   "id": "f3562ab4",
   "metadata": {
    "ExecuteTime": {
     "end_time": "2022-10-28T11:14:54.038014Z",
     "start_time": "2022-10-28T11:14:53.780694Z"
    }
   },
   "outputs": [],
   "source": [
    "import pandas as pd\n",
    "\n",
    "# Create referential in correspondance.csv \n",
    "pd.DataFrame({\n",
    "    'Titre': ['MMe', 'Madame', 'Miss', 'MM', 'Mr', 'M.', 'Mr.', 'Mons'],\n",
    "    'Correspondance': [\n",
    "        'Madame', 'Madame', 'Mademoiselle', 'Madame', 'Monsieur', 'Monsieur',\n",
    "        'Monsieur', 'Monsieur'\n",
    "    ]\n",
    "}).to_csv('data/correspondance.csv')"
   ]
  },
  {
   "cell_type": "code",
   "execution_count": null,
   "id": "f20965a7",
   "metadata": {},
   "outputs": [],
   "source": [
    "# Generate some clients civility\n",
    "temp = pd.concat([corres, corres, corres, corres], ignore_index=True).drop(columns='Correspondance')\n",
    "\n",
    "# Generate random adress\n",
    "temp['adresse'] = [np.random.randint(10) for i in range(32)]\n",
    "list_adresse = ['Nice', 'Paris', 'Lille', 'Nantes', 'Tourcoing', 'Annecy', 'Geneve', 'Brest'] * 4\n",
    "dico_adresse = {k:v for k, v in zip(range(32), list_adresse)}\n",
    "\n",
    "# Write it\n",
    "temp.replace(dico_adresse).to_csv('data/clients.csv')"
   ]
  },
  {
   "cell_type": "code",
   "execution_count": null,
   "id": "236ccd14",
   "metadata": {},
   "outputs": [],
   "source": [
    "# Read clients.csv\n",
    "clients = pd.read_csv('data/clients.csv').drop(columns='Unnamed: 0')\n",
    "display(clients.head())\n",
    "\n",
    "# Read correspondance.csv\n",
    "corres = pd.read_csv('data/correspondance.csv').drop(columns='Unnamed: 0')\n",
    "display(corres.head())\n",
    "\n",
    "# Merge to obtain referential civility and clients together\n",
    "clients.merge(corres, right_on='Titre1', left_on='Titre2')"
   ]
  }
 ],
 "metadata": {
  "kernelspec": {
   "display_name": "Python 3 (ipykernel)",
   "language": "python",
   "name": "python3"
  },
  "language_info": {
   "codemirror_mode": {
    "name": "ipython",
    "version": 3
   },
   "file_extension": ".py",
   "mimetype": "text/x-python",
   "name": "python",
   "nbconvert_exporter": "python",
   "pygments_lexer": "ipython3",
   "version": "3.10.0"
  }
 },
 "nbformat": 4,
 "nbformat_minor": 5
}
