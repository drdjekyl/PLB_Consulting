{
 "cells": [
  {
   "cell_type": "code",
   "execution_count": null,
   "id": "f3562ab4",
   "metadata": {},
   "outputs": [],
   "source": [
    "pd.DataFrame({\n",
    "    'Titre': ['MMe', 'Madame', 'Miss', 'MM', 'Mr', 'M.', 'Mr.', 'Mons'],\n",
    "    'Correspondance': [\n",
    "        'Madame', 'Madame', 'Mademoiselle', 'Madame', 'Monsieur', 'Monsieur',\n",
    "        'Monsieur', 'Monsieur'\n",
    "    ]\n",
    "}).to_csv('data/correspondance.csv')"
   ]
  },
  {
   "cell_type": "code",
   "execution_count": null,
   "id": "8f98851b",
   "metadata": {},
   "outputs": [],
   "source": [
    "corres = pd.read_csv('data/correspondance.csv').drop(columns='Unnamed: 0')\n",
    "corres"
   ]
  },
  {
   "cell_type": "code",
   "execution_count": null,
   "id": "f20965a7",
   "metadata": {},
   "outputs": [],
   "source": [
    "temp = pd.concat([corres, corres, corres, corres], ignore_index=True).drop(columns='Correspondance')\n",
    "temp['adresse'] = [np.random.randint(10) for i in range(32)]\n",
    "list_adresse = ['Nice', 'Paris', 'Lille', 'Nantes', 'Tourcoing', 'Annecy', 'Geneve', 'Brest'] * 4\n",
    "dico_adresse = {k:v for k, v in zip(range(32), list_adresse)}\n",
    "\n",
    "temp.replace(dico_adresse).to_csv('data/clients.csv')"
   ]
  },
  {
   "cell_type": "code",
   "execution_count": null,
   "id": "236ccd14",
   "metadata": {},
   "outputs": [],
   "source": [
    "clients = pd.read_csv('data/clients.csv').drop(columns='Unnamed: 0')\n",
    "display(clients.head())\n",
    "\n",
    "corres = pd.read_csv('data/correspondance.csv').drop(columns='Unnamed: 0')\n",
    "display(corres.head())\n",
    "\n",
    "clients.merge(corres, right_on='Titre1', left_on='Titre2')"
   ]
  }
 ],
 "metadata": {
  "kernelspec": {
   "display_name": "Python 3 (ipykernel)",
   "language": "python",
   "name": "python3"
  },
  "language_info": {
   "codemirror_mode": {
    "name": "ipython",
    "version": 3
   },
   "file_extension": ".py",
   "mimetype": "text/x-python",
   "name": "python",
   "nbconvert_exporter": "python",
   "pygments_lexer": "ipython3",
   "version": "3.10.0"
  }
 },
 "nbformat": 4,
 "nbformat_minor": 5
}
