{
 "cells": [
  {
   "cell_type": "code",
   "execution_count": 2,
   "id": "8a43d04b",
   "metadata": {
    "ExecuteTime": {
     "end_time": "2022-10-28T11:13:38.554796Z",
     "start_time": "2022-10-28T11:13:38.514680Z"
    }
   },
   "outputs": [
    {
     "data": {
      "text/html": [
       "<div>\n",
       "<style scoped>\n",
       "    .dataframe tbody tr th:only-of-type {\n",
       "        vertical-align: middle;\n",
       "    }\n",
       "\n",
       "    .dataframe tbody tr th {\n",
       "        vertical-align: top;\n",
       "    }\n",
       "\n",
       "    .dataframe thead th {\n",
       "        text-align: right;\n",
       "    }\n",
       "</style>\n",
       "<table border=\"1\" class=\"dataframe\">\n",
       "  <thead>\n",
       "    <tr style=\"text-align: right;\">\n",
       "      <th></th>\n",
       "      <th>prenom</th>\n",
       "      <th>nom</th>\n",
       "    </tr>\n",
       "  </thead>\n",
       "  <tbody>\n",
       "    <tr>\n",
       "      <th>0</th>\n",
       "      <td>Demain,</td>\n",
       "      <td>dès</td>\n",
       "    </tr>\n",
       "    <tr>\n",
       "      <th>1</th>\n",
       "      <td>Je part</td>\n",
       "      <td>rai.</td>\n",
       "    </tr>\n",
       "    <tr>\n",
       "      <th>2</th>\n",
       "      <td>J'irai</td>\n",
       "      <td>ar l</td>\n",
       "    </tr>\n",
       "  </tbody>\n",
       "</table>\n",
       "</div>"
      ],
      "text/plain": [
       "    prenom   nom\n",
       "0  Demain,  dès \n",
       "1  Je part  rai.\n",
       "2  J'irai   ar l"
      ]
     },
     "metadata": {},
     "output_type": "display_data"
    }
   ],
   "source": [
    "import pandas as pd\n",
    "\n",
    "# Create an empty df\n",
    "data_ = pd.DataFrame()\n",
    "\n",
    "with open('data/demain.txt', encoding='utf8') as f:\n",
    "    contents = f.readlines()\n",
    "    for idx, row in enumerate(contents):\n",
    "\n",
    "        # Write the values with specific position from .txt\n",
    "        data_.loc[idx, 'prenom'] = row[0:7]\n",
    "        data_.loc[idx, 'nom'] = row[8:12]\n",
    "        \n",
    "display(data_.head(3))"
   ]
  }
 ],
 "metadata": {
  "kernelspec": {
   "display_name": "Python 3 (ipykernel)",
   "language": "python",
   "name": "python3"
  },
  "language_info": {
   "codemirror_mode": {
    "name": "ipython",
    "version": 3
   },
   "file_extension": ".py",
   "mimetype": "text/x-python",
   "name": "python",
   "nbconvert_exporter": "python",
   "pygments_lexer": "ipython3",
   "version": "3.10.0"
  }
 },
 "nbformat": 4,
 "nbformat_minor": 5
}
