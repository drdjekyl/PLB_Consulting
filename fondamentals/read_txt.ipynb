{
 "cells": [
  {
   "cell_type": "code",
   "execution_count": 23,
   "id": "8a43d04b",
   "metadata": {
    "ExecuteTime": {
     "end_time": "2022-10-26T14:04:36.475841Z",
     "start_time": "2022-10-26T14:04:36.456950Z"
    }
   },
   "outputs": [
    {
     "name": "stdout",
     "output_type": "stream",
     "text": [
      "[\"Demain, dès l'aube, à l'heure où blanchit la campagne,\\n\", \"Je partirai. Vois-tu, je sais que tu m'attends.\\n\", \"J'irai par la forêt, j'irai par la montagne.\\n\", 'Je ne puis demeurer loin de toi plus longtemps.\\n', '\\n', 'Je marcherai les yeux fixés sur mes pensées,\\n', 'Sans rien voir au dehors, sans entendre aucun bruit,\\n', 'Seul, inconnu, le dos courbé, les mains croisées,\\n', 'Triste, et le jour pour moi sera comme la nuit.\\n', '\\n', 'Je ne regarderai ni l’or du soir qui tombe,\\n', 'Ni les voiles au loin descendant vers Harfleur,\\n', \"Et quand j'arriverai, je mettrai sur ta tombe\\n\", 'Un bouquet de houx vert et de bruyère en fleur.']\n",
      "Demain, dès l'aube, à l'heure où blanchit la campagne,\n",
      "\n",
      "Je partirai. Vois-tu, je sais que tu m'attends.\n",
      "\n",
      "J'irai par la forêt, j'irai par la montagne.\n",
      "\n",
      "Je ne puis demeurer loin de toi plus longtemps.\n",
      "\n",
      "\n",
      "\n",
      "Je marcherai les yeux fixés sur mes pensées,\n",
      "\n",
      "Sans rien voir au dehors, sans entendre aucun bruit,\n",
      "\n",
      "Seul, inconnu, le dos courbé, les mains croisées,\n",
      "\n",
      "Triste, et le jour pour moi sera comme la nuit.\n",
      "\n",
      "\n",
      "\n",
      "Je ne regarderai ni l’or du soir qui tombe,\n",
      "\n",
      "Ni les voiles au loin descendant vers Harfleur,\n",
      "\n",
      "Et quand j'arriverai, je mettrai sur ta tombe\n",
      "\n",
      "Un bouquet de houx vert et de bruyère en fleur.\n"
     ]
    }
   ],
   "source": [
    "import pandas as pd\n",
    "\n",
    "data_ = pd.DataFrame()\n",
    "with open('data/demain.txt', encoding='utf8') as f:\n",
    "    contents = f.readlines()\n",
    "    for idx, row in enumerate(contents):\n",
    "        print(row)\n",
    "        \n",
    "        data_.loc[idx, 'prenom'] = row[0:7]\n",
    "        data_.loc[idx, 'nom'] = row[8:12]"
   ]
  },
  {
   "cell_type": "code",
   "execution_count": 21,
   "id": "65404d35",
   "metadata": {
    "ExecuteTime": {
     "end_time": "2022-10-26T12:51:05.684816Z",
     "start_time": "2022-10-26T12:51:05.673253Z"
    }
   },
   "outputs": [
    {
     "data": {
      "text/html": [
       "<div>\n",
       "<style scoped>\n",
       "    .dataframe tbody tr th:only-of-type {\n",
       "        vertical-align: middle;\n",
       "    }\n",
       "\n",
       "    .dataframe tbody tr th {\n",
       "        vertical-align: top;\n",
       "    }\n",
       "\n",
       "    .dataframe thead th {\n",
       "        text-align: right;\n",
       "    }\n",
       "</style>\n",
       "<table border=\"1\" class=\"dataframe\">\n",
       "  <thead>\n",
       "    <tr style=\"text-align: right;\">\n",
       "      <th></th>\n",
       "      <th>prenom</th>\n",
       "      <th>nom</th>\n",
       "    </tr>\n",
       "  </thead>\n",
       "  <tbody>\n",
       "    <tr>\n",
       "      <th>0</th>\n",
       "      <td>Demain,</td>\n",
       "      <td>dès</td>\n",
       "    </tr>\n",
       "    <tr>\n",
       "      <th>1</th>\n",
       "      <td>Je part</td>\n",
       "      <td>rai.</td>\n",
       "    </tr>\n",
       "    <tr>\n",
       "      <th>2</th>\n",
       "      <td>J'irai</td>\n",
       "      <td>ar l</td>\n",
       "    </tr>\n",
       "    <tr>\n",
       "      <th>3</th>\n",
       "      <td>Je ne p</td>\n",
       "      <td>is d</td>\n",
       "    </tr>\n",
       "    <tr>\n",
       "      <th>4</th>\n",
       "      <td>\\n</td>\n",
       "      <td></td>\n",
       "    </tr>\n",
       "    <tr>\n",
       "      <th>5</th>\n",
       "      <td>Je marc</td>\n",
       "      <td>erai</td>\n",
       "    </tr>\n",
       "    <tr>\n",
       "      <th>6</th>\n",
       "      <td>Sans ri</td>\n",
       "      <td>n vo</td>\n",
       "    </tr>\n",
       "    <tr>\n",
       "      <th>7</th>\n",
       "      <td>Seul, i</td>\n",
       "      <td>conn</td>\n",
       "    </tr>\n",
       "    <tr>\n",
       "      <th>8</th>\n",
       "      <td>Triste,</td>\n",
       "      <td>et l</td>\n",
       "    </tr>\n",
       "    <tr>\n",
       "      <th>9</th>\n",
       "      <td>\\n</td>\n",
       "      <td></td>\n",
       "    </tr>\n",
       "    <tr>\n",
       "      <th>10</th>\n",
       "      <td>Je ne r</td>\n",
       "      <td>gard</td>\n",
       "    </tr>\n",
       "    <tr>\n",
       "      <th>11</th>\n",
       "      <td>Ni les</td>\n",
       "      <td>oile</td>\n",
       "    </tr>\n",
       "    <tr>\n",
       "      <th>12</th>\n",
       "      <td>Et quan</td>\n",
       "      <td>j'a</td>\n",
       "    </tr>\n",
       "    <tr>\n",
       "      <th>13</th>\n",
       "      <td>Un bouq</td>\n",
       "      <td>et d</td>\n",
       "    </tr>\n",
       "  </tbody>\n",
       "</table>\n",
       "</div>"
      ],
      "text/plain": [
       "     prenom   nom\n",
       "0   Demain,  dès \n",
       "1   Je part  rai.\n",
       "2   J'irai   ar l\n",
       "3   Je ne p  is d\n",
       "4        \\n      \n",
       "5   Je marc  erai\n",
       "6   Sans ri  n vo\n",
       "7   Seul, i  conn\n",
       "8   Triste,  et l\n",
       "9        \\n      \n",
       "10  Je ne r  gard\n",
       "11  Ni les   oile\n",
       "12  Et quan   j'a\n",
       "13  Un bouq  et d"
      ]
     },
     "execution_count": 21,
     "metadata": {},
     "output_type": "execute_result"
    }
   ],
   "source": [
    "data_"
   ]
  },
  {
   "cell_type": "code",
   "execution_count": null,
   "id": "1e5edb04",
   "metadata": {},
   "outputs": [],
   "source": []
  }
 ],
 "metadata": {
  "kernelspec": {
   "display_name": "Python 3 (ipykernel)",
   "language": "python",
   "name": "python3"
  },
  "language_info": {
   "codemirror_mode": {
    "name": "ipython",
    "version": 3
   },
   "file_extension": ".py",
   "mimetype": "text/x-python",
   "name": "python",
   "nbconvert_exporter": "python",
   "pygments_lexer": "ipython3",
   "version": "3.10.0"
  }
 },
 "nbformat": 4,
 "nbformat_minor": 5
}
