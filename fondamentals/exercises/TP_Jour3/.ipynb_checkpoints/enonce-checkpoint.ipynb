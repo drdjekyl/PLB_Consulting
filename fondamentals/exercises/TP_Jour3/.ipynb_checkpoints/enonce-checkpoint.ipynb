{
 "cells": [
  {
   "cell_type": "markdown",
   "id": "7dca7270",
   "metadata": {
    "ExecuteTime": {
     "end_time": "2022-07-07T07:17:19.862952Z",
     "start_time": "2022-07-07T07:17:19.807896Z"
    }
   },
   "source": [
    "## Énoncé 1\n",
    "\n",
    "#### Découvrir le langage Python à l'aide des formes géométriques : instanciation de classe, méthodes, attributs et héritage\n",
    "\n",
    "\n",
    "Pour cet exercice, vous devrez utiliser les concepts vu dans l'ensemble du troisième chapitre. Vous développerez un programme qui permet d'instancier des objets de la classe mère Figure et ses classes filles Quadrilatere, Carre, Rectangle.  \n",
    "Il sera nécessaire de veiller à la bonne répartition des méthodes et attributs dans chaque classe afin de calculer le périmètre et vérifier les propriétés géométriques de chacune de ces figures."
   ]
  },
  {
   "cell_type": "markdown",
   "id": "84280958",
   "metadata": {},
   "source": [
    "Pour les plus avancés, vous pourrez écrire un programme sous forme de script.py qui permettra d'instancier chacune des classes créer précédemment, d'entrer vous même les attributs des objets créés, et de vérifier que les conditions entrées par l'utilisateur sont correctes en regard des contraintes géométriques de chacune des figures."
   ]
  },
  {
   "cell_type": "markdown",
   "id": "2b9ffb47",
   "metadata": {},
   "source": [
    "## Énoncé 2\n",
    "\n",
    "#### Accéder à des données en lecture et en écriture avec Open Food Fact : récupération d'un fichier JSON par API et écriture dans une DB SQL\n",
    "\n",
    "Pour réaliser cet exercice, vous utiliserez l'API du site Open Food Facts grâce à une requête GET à l'URL suivante : https://fr.openfoodfacts.org/categorie/[nom de la catégorie]/[1].json\n",
    "Une fois le fichier JSON collecté, vous en isolerez les propriétés liées au nutriscore de quelques catégories de produit de votre choix : https://world.openfoodfacts.org/categories\n",
    "Ensuite, vous utiliserez le module mysql.connector avec une DB SQL pour y ajouter l'ensemble de la requête générée.\n",
    "\n",
    "Consignes : pour chacune des étapes à réaliser, vous utiliserez des fonctions en générant la documentation associée. Vous pourrez utiliser une classe Produit et générez les méthodes d'écritures associées. \n",
    "Vous serez aussi vigilants à la gestion des exceptions et ouverture / fermeture des éléments de type SGBD ou fichiers dans votre programme."
   ]
  },
  {
   "cell_type": "markdown",
   "id": "32f5e2b3",
   "metadata": {},
   "source": [
    "Pour les plus avancés, vous pourrez utiliser la structure de votre programme afin de réaliser les mêmes fonctionnalités en utilisant l'ORM SQL Alchemy et testez votre programme à l'aide de pylint"
   ]
  },
  {
   "cell_type": "markdown",
   "id": "0c9a9542",
   "metadata": {},
   "source": [
    "## Énoncé 3\n",
    "\n",
    "#### Comprendre et analyser des structures de données avancées grâce au cours du Bitcoin : traitement, représentation graphique et modélisation simple\n",
    "\n",
    "Avec cet exercice, vous utiliserez le jeu de données du cours du BTC/USDT. A l'aide des statistiques descriptives et de la librairie pandas, vous décrirez le cours du BTC pour chacune des années 2018 à 2021.\n",
    "\n",
    "Ensuite, vous créerez les indicateurs ci-après et les représenterez graphiquement à l'aide de maplotlib : \n",
    "- moyenne mobile 10, \n",
    "- moyenne mobile 20, \n",
    "- moyenne mobile 50,\n",
    "- bandes de bollinger supérieures et,\n",
    "- bandes de bollinger inférieures. "
   ]
  },
  {
   "cell_type": "markdown",
   "id": "c02a1465",
   "metadata": {},
   "source": [
    "Pour les plus avancés, vous pouvez chercher à vérifer les triggers suivants : \n",
    "- période bullish lorsque la MA 10 est supérieure au MA 20 et MA 50\n",
    "- période bearish lorsque la MA 10 est inférieure au MA 20 et MA 50\n",
    "\n",
    "Vous représenterez ici aussi graphiquement ces différents éléments à l'aide de matplotlib et pourrez tester une régression linéaire à l'aide des 30 dernières bougies journalières."
   ]
  },
  {
   "cell_type": "markdown",
   "id": "083f3726",
   "metadata": {},
   "source": [
    "## Énoncé 4\n",
    "\n",
    "#### Optimisation d'un mauvais script Python traitant des données en provenance de Twitter : memory profiling, parallélisation\n",
    "\n",
    "Pour ce dernier exercice, vous utiliserez un script python d'ores et déjà structurés afin d'en améliorer ces performances.\n",
    "La première étape sera d'identifier les fonctions qui prennent du temps et/ou des ressources pour s'éxécuter à l'aide de la méthode de votre choix.\n",
    "La seconde étape sera de trouver un moyen d'optimiser les fonctions identifiées, et si besoin d'utiliser les méthodes de parallélisation. \n",
    "\n",
    "Pour terminer l'exercice nous testerons notre programme à l'aide d'unitest."
   ]
  },
  {
   "cell_type": "markdown",
   "id": "ca032fd1",
   "metadata": {},
   "source": [
    "## TP bonus \n",
    "\n",
    "Votre mission\n",
    "Mark vous a donc demandé de réaliser une analyse pré-exploratoire de ce jeu de données. Il vous a transmis cet email à la suite de la réunion :\n",
    "\n",
    "Hello,\n",
    "\n",
    "Les données de la Banque mondiale sont disponibles à l’adresse suivante :\n",
    "\n",
    "https://datacatalog.worldbank.org/dataset/education-statistics\n",
    "\n",
    "Ou en téléchargement direct à ce lien.\n",
    "\n",
    "Je te laisse regarder la page d'accueil qui décrit le jeu de données. En résumé, l’organisme “EdStats All Indicator Query” de la Banque mondiale répertorie 4000 indicateurs internationaux décrivant l’accès à l’éducation, l’obtention de diplômes et des informations relatives aux professeurs, aux dépenses liées à l’éducation... Tu trouveras plus d'info sur ce site :\n",
    "\n",
    "http://datatopics.worldbank.org/education/\n",
    "\n",
    "Pour la pré-analyse, pourrais-tu :\n",
    "\n",
    "Valider la qualité de ce jeu de données (comporte-t-il beaucoup de données manquantes, dupliquées ?)\n",
    "Décrire les informations contenues dans le jeu de données (nombre de colonnes ? nombre de lignes ?)\n",
    "Sélectionner les informations qui semblent pertinentes pour répondre à la problématique (quelles sont les colonnes contenant des informations qui peuvent être utiles pour répondre à la problématique de l’entreprise ?)\n",
    "Déterminer des ordres de grandeurs des indicateurs statistiques classiques pour les différentes zones géographiques et pays du monde (moyenne/médiane/écart-type par pays et par continent ou bloc géographique)\n",
    "Ton travail va nous permettre de déterminer si ce jeu de données peut informer les décisions d'ouverture vers de nouveaux pays. On va partager ton analyse avec le board, alors merci de soigner la présentation et de l'illustrer avec des graphiques pertinents et lisibles !"
   ]
  }
 ],
 "metadata": {
  "kernelspec": {
   "display_name": "Python 3 (ipykernel)",
   "language": "python",
   "name": "python3"
  },
  "language_info": {
   "codemirror_mode": {
    "name": "ipython",
    "version": 3
   },
   "file_extension": ".py",
   "mimetype": "text/x-python",
   "name": "python",
   "nbconvert_exporter": "python",
   "pygments_lexer": "ipython3",
   "version": "3.10.0"
  }
 },
 "nbformat": 4,
 "nbformat_minor": 5
}
