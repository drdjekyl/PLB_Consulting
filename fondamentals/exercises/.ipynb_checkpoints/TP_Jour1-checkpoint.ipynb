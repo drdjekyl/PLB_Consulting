{
 "cells": [
  {
   "cell_type": "code",
   "execution_count": 40,
   "id": "18b8c082",
   "metadata": {
    "ExecuteTime": {
     "end_time": "2022-06-29T05:54:17.740723Z",
     "start_time": "2022-06-29T05:54:17.718654Z"
    }
   },
   "outputs": [],
   "source": [
    "class Figure:\n",
    "\n",
    "    def __init__(self, color):\n",
    "        self.color = color\n",
    "\n",
    "    def get_color(self):\n",
    "        return self.color\n",
    "\n",
    "    def set_color(self, new_color):\n",
    "        self.color = new_color\n",
    "        \n",
    "\n",
    "class Quadrilatere(Figure):\n",
    "\n",
    "    def __init__(self, sides:list):\n",
    "        self.sides = sides\n",
    "\n",
    "        super().__init__(color='red')\n",
    "\n",
    "    def calc_perimeter(self):\n",
    "        \n",
    "        if len(self.sides) == 4:\n",
    "            try:\n",
    "                return sum(self.sides)\n",
    "            except TypeError:\n",
    "                print(\"\"\"La liste contenant la longueur de mes côtés n'est \\n\n",
    "                pas constitué uniquement de nombres\"\"\")\n",
    "\n",
    "        elif len(self.sides) != 4:\n",
    "            print(\"\"\"Je ne suis pas un quadrilatère car je n'ai pas 4 côtés\"\"\")\n",
    "            \n",
    "    def __str__(self):\n",
    "        return 'En vrai je suis un quadrilatère!'\n",
    "\n",
    "\n",
    "class Rectangle(Quadrilatere):\n",
    "\n",
    "    def __init__(self, length: float, width: float):\n",
    "        \n",
    "        self.length = length\n",
    "        self.width = width\n",
    "        \n",
    "\n",
    "    def calc_perimeter(self):\n",
    "        \n",
    "        return self.width * 2 + self.length * 2\n",
    "\n",
    "\n",
    "class Carre(Rectangle, Quadrilatere):\n",
    "\n",
    "    def __init__(self, length):\n",
    "        self.length = length\n",
    "        \n",
    "        super().__init__(self.length, self.length)"
   ]
  },
  {
   "cell_type": "code",
   "execution_count": 2,
   "id": "af46ca62",
   "metadata": {
    "ExecuteTime": {
     "end_time": "2022-06-27T10:57:20.790292Z",
     "start_time": "2022-06-27T10:57:20.776468Z"
    }
   },
   "outputs": [],
   "source": [
    "fig = Figure('red')"
   ]
  },
  {
   "cell_type": "code",
   "execution_count": 4,
   "id": "798cf20b",
   "metadata": {
    "ExecuteTime": {
     "end_time": "2022-06-27T10:57:39.208657Z",
     "start_time": "2022-06-27T10:57:39.191846Z"
    }
   },
   "outputs": [
    {
     "data": {
      "text/plain": [
       "'red'"
      ]
     },
     "execution_count": 4,
     "metadata": {},
     "output_type": "execute_result"
    }
   ],
   "source": [
    "fig.get_color()"
   ]
  },
  {
   "cell_type": "code",
   "execution_count": 5,
   "id": "b5754e0c",
   "metadata": {
    "ExecuteTime": {
     "end_time": "2022-06-27T10:57:43.231741Z",
     "start_time": "2022-06-27T10:57:43.221865Z"
    }
   },
   "outputs": [],
   "source": [
    "fig.set_color('yellow')"
   ]
  },
  {
   "cell_type": "code",
   "execution_count": 41,
   "id": "a408b4fb",
   "metadata": {
    "ExecuteTime": {
     "end_time": "2022-06-29T05:54:20.560569Z",
     "start_time": "2022-06-29T05:54:20.545316Z"
    }
   },
   "outputs": [],
   "source": [
    "quad = Quadrilatere([3, 4, 5])"
   ]
  },
  {
   "cell_type": "code",
   "execution_count": 42,
   "id": "2f580d1a",
   "metadata": {
    "ExecuteTime": {
     "end_time": "2022-06-29T05:54:21.433383Z",
     "start_time": "2022-06-29T05:54:21.418105Z"
    }
   },
   "outputs": [
    {
     "data": {
      "text/plain": [
       "[3, 4, 5]"
      ]
     },
     "execution_count": 42,
     "metadata": {},
     "output_type": "execute_result"
    }
   ],
   "source": [
    "quad.sides"
   ]
  },
  {
   "cell_type": "code",
   "execution_count": 8,
   "id": "d7bd8d76",
   "metadata": {
    "ExecuteTime": {
     "end_time": "2022-06-27T10:58:08.830967Z",
     "start_time": "2022-06-27T10:58:08.815542Z"
    }
   },
   "outputs": [],
   "source": [
    "quad.set_color('blue')"
   ]
  },
  {
   "cell_type": "code",
   "execution_count": 28,
   "id": "c728cfa9",
   "metadata": {
    "ExecuteTime": {
     "end_time": "2022-06-29T05:52:39.931923Z",
     "start_time": "2022-06-29T05:52:39.913123Z"
    }
   },
   "outputs": [
    {
     "data": {
      "text/plain": [
       "'red'"
      ]
     },
     "execution_count": 28,
     "metadata": {},
     "output_type": "execute_result"
    }
   ],
   "source": [
    "quad.get_color()"
   ]
  },
  {
   "cell_type": "code",
   "execution_count": 43,
   "id": "fe6c3b45",
   "metadata": {
    "ExecuteTime": {
     "end_time": "2022-06-29T05:54:23.173206Z",
     "start_time": "2022-06-29T05:54:23.157843Z"
    }
   },
   "outputs": [
    {
     "name": "stdout",
     "output_type": "stream",
     "text": [
      "Je ne suis pas un quadrilatère car je n'ai pas 4 côtés\n"
     ]
    }
   ],
   "source": [
    "quad.calc_perimeter()"
   ]
  },
  {
   "cell_type": "code",
   "execution_count": 11,
   "id": "eb7f26c4",
   "metadata": {
    "ExecuteTime": {
     "end_time": "2022-06-27T10:58:35.263385Z",
     "start_time": "2022-06-27T10:58:35.246595Z"
    }
   },
   "outputs": [],
   "source": [
    "rect = Rectangle(3,4)"
   ]
  },
  {
   "cell_type": "code",
   "execution_count": 13,
   "id": "71157ffc",
   "metadata": {
    "ExecuteTime": {
     "end_time": "2022-06-27T10:58:42.057315Z",
     "start_time": "2022-06-27T10:58:42.043001Z"
    }
   },
   "outputs": [],
   "source": [
    "rect.set_color('green')"
   ]
  },
  {
   "cell_type": "code",
   "execution_count": 14,
   "id": "b8d4bc28",
   "metadata": {
    "ExecuteTime": {
     "end_time": "2022-06-27T10:58:45.993841Z",
     "start_time": "2022-06-27T10:58:45.977462Z"
    }
   },
   "outputs": [
    {
     "data": {
      "text/plain": [
       "'green'"
      ]
     },
     "execution_count": 14,
     "metadata": {},
     "output_type": "execute_result"
    }
   ],
   "source": [
    "rect.get_color()"
   ]
  },
  {
   "cell_type": "code",
   "execution_count": 46,
   "id": "872a9b59",
   "metadata": {
    "ExecuteTime": {
     "end_time": "2022-06-29T06:22:16.548872Z",
     "start_time": "2022-06-29T06:22:16.541402Z"
    }
   },
   "outputs": [
    {
     "data": {
      "text/plain": [
       "'Quadrilatere has 4 sides of : [4.0, 5.0] inches respectively'"
      ]
     },
     "execution_count": 46,
     "metadata": {},
     "output_type": "execute_result"
    }
   ],
   "source": [
    "rect.get_sides()"
   ]
  },
  {
   "cell_type": "code",
   "execution_count": 15,
   "id": "a55f9bc8",
   "metadata": {
    "ExecuteTime": {
     "end_time": "2022-06-27T10:58:48.133268Z",
     "start_time": "2022-06-27T10:58:48.119561Z"
    }
   },
   "outputs": [],
   "source": [
    "carre = Carre(3)"
   ]
  },
  {
   "cell_type": "code",
   "execution_count": 16,
   "id": "b6ce0129",
   "metadata": {
    "ExecuteTime": {
     "end_time": "2022-06-27T10:58:53.000905Z",
     "start_time": "2022-06-27T10:58:52.975327Z"
    }
   },
   "outputs": [
    {
     "data": {
      "text/plain": [
       "12"
      ]
     },
     "execution_count": 16,
     "metadata": {},
     "output_type": "execute_result"
    }
   ],
   "source": [
    "carre.calc_perimeter()"
   ]
  },
  {
   "cell_type": "code",
   "execution_count": 17,
   "id": "11832aec",
   "metadata": {
    "ExecuteTime": {
     "end_time": "2022-06-27T10:58:55.152296Z",
     "start_time": "2022-06-27T10:58:55.136496Z"
    }
   },
   "outputs": [
    {
     "name": "stdout",
     "output_type": "stream",
     "text": [
      "En vrai je suis un quadrilatère!\n"
     ]
    }
   ],
   "source": [
    "print(carre)"
   ]
  },
  {
   "cell_type": "code",
   "execution_count": 20,
   "id": "ab0c7524",
   "metadata": {
    "ExecuteTime": {
     "end_time": "2022-06-27T10:59:45.350627Z",
     "start_time": "2022-06-27T10:59:45.335191Z"
    }
   },
   "outputs": [
    {
     "data": {
      "text/plain": [
       "'purple'"
      ]
     },
     "execution_count": 20,
     "metadata": {},
     "output_type": "execute_result"
    }
   ],
   "source": [
    "carre.color"
   ]
  }
 ],
 "metadata": {
  "kernelspec": {
   "display_name": "Python 3 (ipykernel)",
   "language": "python",
   "name": "python3"
  },
  "language_info": {
   "codemirror_mode": {
    "name": "ipython",
    "version": 3
   },
   "file_extension": ".py",
   "mimetype": "text/x-python",
   "name": "python",
   "nbconvert_exporter": "python",
   "pygments_lexer": "ipython3",
   "version": "3.10.0"
  }
 },
 "nbformat": 4,
 "nbformat_minor": 5
}
