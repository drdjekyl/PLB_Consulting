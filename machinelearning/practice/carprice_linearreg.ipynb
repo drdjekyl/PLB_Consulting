{
 "cells": [
  {
   "cell_type": "code",
   "execution_count": 1,
   "metadata": {
    "ExecuteTime": {
     "end_time": "2022-08-26T09:33:18.631922Z",
     "start_time": "2022-08-26T09:33:17.688227Z"
    },
    "execution": {
     "iopub.execute_input": "2021-12-03T03:24:05.757659Z",
     "iopub.status.busy": "2021-12-03T03:24:05.757377Z",
     "iopub.status.idle": "2021-12-03T03:24:06.255331Z",
     "shell.execute_reply": "2021-12-03T03:24:06.254401Z",
     "shell.execute_reply.started": "2021-12-03T03:24:05.757577Z"
    }
   },
   "outputs": [],
   "source": [
    "# Import libraries\n",
    "\n",
    "import numpy as np\n",
    "import pandas as pd\n",
    "import matplotlib.pyplot as plt\n",
    "import seaborn as sns"
   ]
  },
  {
   "cell_type": "code",
   "execution_count": 2,
   "metadata": {
    "ExecuteTime": {
     "end_time": "2022-08-26T09:33:18.656600Z",
     "start_time": "2022-08-26T09:33:18.633104Z"
    },
    "execution": {
     "iopub.execute_input": "2021-12-03T03:24:06.257293Z",
     "iopub.status.busy": "2021-12-03T03:24:06.256896Z",
     "iopub.status.idle": "2021-12-03T03:24:06.312072Z",
     "shell.execute_reply": "2021-12-03T03:24:06.311181Z",
     "shell.execute_reply.started": "2021-12-03T03:24:06.257247Z"
    }
   },
   "outputs": [
    {
     "data": {
      "text/html": [
       "<div>\n",
       "<style scoped>\n",
       "    .dataframe tbody tr th:only-of-type {\n",
       "        vertical-align: middle;\n",
       "    }\n",
       "\n",
       "    .dataframe tbody tr th {\n",
       "        vertical-align: top;\n",
       "    }\n",
       "\n",
       "    .dataframe thead th {\n",
       "        text-align: right;\n",
       "    }\n",
       "</style>\n",
       "<table border=\"1\" class=\"dataframe\">\n",
       "  <thead>\n",
       "    <tr style=\"text-align: right;\">\n",
       "      <th></th>\n",
       "      <th>car_ID</th>\n",
       "      <th>symboling</th>\n",
       "      <th>CarName</th>\n",
       "      <th>fueltype</th>\n",
       "      <th>aspiration</th>\n",
       "      <th>doornumber</th>\n",
       "      <th>carbody</th>\n",
       "      <th>drivewheel</th>\n",
       "      <th>enginelocation</th>\n",
       "      <th>wheelbase</th>\n",
       "      <th>...</th>\n",
       "      <th>enginesize</th>\n",
       "      <th>fuelsystem</th>\n",
       "      <th>boreratio</th>\n",
       "      <th>stroke</th>\n",
       "      <th>compressionratio</th>\n",
       "      <th>horsepower</th>\n",
       "      <th>peakrpm</th>\n",
       "      <th>citympg</th>\n",
       "      <th>highwaympg</th>\n",
       "      <th>price</th>\n",
       "    </tr>\n",
       "  </thead>\n",
       "  <tbody>\n",
       "    <tr>\n",
       "      <th>0</th>\n",
       "      <td>1</td>\n",
       "      <td>3</td>\n",
       "      <td>alfa-romero giulia</td>\n",
       "      <td>gas</td>\n",
       "      <td>std</td>\n",
       "      <td>two</td>\n",
       "      <td>convertible</td>\n",
       "      <td>rwd</td>\n",
       "      <td>front</td>\n",
       "      <td>88.6</td>\n",
       "      <td>...</td>\n",
       "      <td>130</td>\n",
       "      <td>mpfi</td>\n",
       "      <td>3.47</td>\n",
       "      <td>2.68</td>\n",
       "      <td>9.0</td>\n",
       "      <td>111</td>\n",
       "      <td>5000</td>\n",
       "      <td>21</td>\n",
       "      <td>27</td>\n",
       "      <td>13495.0</td>\n",
       "    </tr>\n",
       "    <tr>\n",
       "      <th>1</th>\n",
       "      <td>2</td>\n",
       "      <td>3</td>\n",
       "      <td>alfa-romero stelvio</td>\n",
       "      <td>gas</td>\n",
       "      <td>std</td>\n",
       "      <td>two</td>\n",
       "      <td>convertible</td>\n",
       "      <td>rwd</td>\n",
       "      <td>front</td>\n",
       "      <td>88.6</td>\n",
       "      <td>...</td>\n",
       "      <td>130</td>\n",
       "      <td>mpfi</td>\n",
       "      <td>3.47</td>\n",
       "      <td>2.68</td>\n",
       "      <td>9.0</td>\n",
       "      <td>111</td>\n",
       "      <td>5000</td>\n",
       "      <td>21</td>\n",
       "      <td>27</td>\n",
       "      <td>16500.0</td>\n",
       "    </tr>\n",
       "    <tr>\n",
       "      <th>2</th>\n",
       "      <td>3</td>\n",
       "      <td>1</td>\n",
       "      <td>alfa-romero Quadrifoglio</td>\n",
       "      <td>gas</td>\n",
       "      <td>std</td>\n",
       "      <td>two</td>\n",
       "      <td>hatchback</td>\n",
       "      <td>rwd</td>\n",
       "      <td>front</td>\n",
       "      <td>94.5</td>\n",
       "      <td>...</td>\n",
       "      <td>152</td>\n",
       "      <td>mpfi</td>\n",
       "      <td>2.68</td>\n",
       "      <td>3.47</td>\n",
       "      <td>9.0</td>\n",
       "      <td>154</td>\n",
       "      <td>5000</td>\n",
       "      <td>19</td>\n",
       "      <td>26</td>\n",
       "      <td>16500.0</td>\n",
       "    </tr>\n",
       "  </tbody>\n",
       "</table>\n",
       "<p>3 rows × 26 columns</p>\n",
       "</div>"
      ],
      "text/plain": [
       "   car_ID  symboling                   CarName fueltype aspiration doornumber  \\\n",
       "0       1          3        alfa-romero giulia      gas        std        two   \n",
       "1       2          3       alfa-romero stelvio      gas        std        two   \n",
       "2       3          1  alfa-romero Quadrifoglio      gas        std        two   \n",
       "\n",
       "       carbody drivewheel enginelocation  wheelbase  ...  enginesize  \\\n",
       "0  convertible        rwd          front       88.6  ...         130   \n",
       "1  convertible        rwd          front       88.6  ...         130   \n",
       "2    hatchback        rwd          front       94.5  ...         152   \n",
       "\n",
       "   fuelsystem  boreratio  stroke compressionratio horsepower  peakrpm citympg  \\\n",
       "0        mpfi       3.47    2.68              9.0        111     5000      21   \n",
       "1        mpfi       3.47    2.68              9.0        111     5000      21   \n",
       "2        mpfi       2.68    3.47              9.0        154     5000      19   \n",
       "\n",
       "   highwaympg    price  \n",
       "0          27  13495.0  \n",
       "1          27  16500.0  \n",
       "2          26  16500.0  \n",
       "\n",
       "[3 rows x 26 columns]"
      ]
     },
     "execution_count": 2,
     "metadata": {},
     "output_type": "execute_result"
    }
   ],
   "source": [
    "# Import data\n",
    "\n",
    "df = pd.read_csv('../data/car_price.csv')\n",
    "df.head(3)"
   ]
  },
  {
   "cell_type": "markdown",
   "metadata": {},
   "source": [
    "# I. Dataset presentation"
   ]
  },
  {
   "cell_type": "code",
   "execution_count": null,
   "metadata": {
    "ExecuteTime": {
     "end_time": "2022-08-26T08:20:01.962983Z",
     "start_time": "2022-08-26T08:20:01.929451Z"
    },
    "execution": {
     "iopub.execute_input": "2021-12-03T03:24:06.425645Z",
     "iopub.status.busy": "2021-12-03T03:24:06.425208Z",
     "iopub.status.idle": "2021-12-03T03:24:06.448463Z",
     "shell.execute_reply": "2021-12-03T03:24:06.447476Z",
     "shell.execute_reply.started": "2021-12-03T03:24:06.42561Z"
    }
   },
   "outputs": [],
   "source": [
    "df.info()"
   ]
  },
  {
   "cell_type": "code",
   "execution_count": null,
   "metadata": {
    "ExecuteTime": {
     "end_time": "2022-08-26T08:20:02.273506Z",
     "start_time": "2022-08-26T08:20:02.226354Z"
    },
    "execution": {
     "iopub.execute_input": "2021-12-03T03:24:06.449869Z",
     "iopub.status.busy": "2021-12-03T03:24:06.449643Z",
     "iopub.status.idle": "2021-12-03T03:24:06.5037Z",
     "shell.execute_reply": "2021-12-03T03:24:06.503087Z",
     "shell.execute_reply.started": "2021-12-03T03:24:06.449842Z"
    }
   },
   "outputs": [],
   "source": [
    "df.describe()"
   ]
  },
  {
   "cell_type": "code",
   "execution_count": null,
   "metadata": {
    "ExecuteTime": {
     "end_time": "2022-08-26T08:56:27.705496Z",
     "start_time": "2022-08-26T08:56:27.689064Z"
    },
    "execution": {
     "iopub.execute_input": "2021-12-03T03:24:06.505389Z",
     "iopub.status.busy": "2021-12-03T03:24:06.504693Z",
     "iopub.status.idle": "2021-12-03T03:24:06.513714Z",
     "shell.execute_reply": "2021-12-03T03:24:06.512872Z",
     "shell.execute_reply.started": "2021-12-03T03:24:06.505352Z"
    }
   },
   "outputs": [],
   "source": [
    "df.isnull().sum().sum()"
   ]
  },
  {
   "cell_type": "code",
   "execution_count": null,
   "metadata": {
    "ExecuteTime": {
     "end_time": "2022-08-26T08:20:48.730933Z",
     "start_time": "2022-08-26T08:20:48.692113Z"
    },
    "execution": {
     "iopub.execute_input": "2021-12-03T03:24:06.577865Z",
     "iopub.status.busy": "2021-12-03T03:24:06.577174Z",
     "iopub.status.idle": "2021-12-03T03:24:06.616716Z",
     "shell.execute_reply": "2021-12-03T03:24:06.615803Z",
     "shell.execute_reply.started": "2021-12-03T03:24:06.577828Z"
    }
   },
   "outputs": [],
   "source": [
    "df.drop(['car_ID', 'CarName'], axis=1, inplace=True)\n",
    "df"
   ]
  },
  {
   "cell_type": "code",
   "execution_count": 3,
   "metadata": {
    "ExecuteTime": {
     "end_time": "2022-08-26T09:33:22.072677Z",
     "start_time": "2022-08-26T09:33:22.053805Z"
    },
    "execution": {
     "iopub.execute_input": "2021-12-03T03:24:06.618132Z",
     "iopub.status.busy": "2021-12-03T03:24:06.617883Z",
     "iopub.status.idle": "2021-12-03T03:24:06.623199Z",
     "shell.execute_reply": "2021-12-03T03:24:06.622605Z",
     "shell.execute_reply.started": "2021-12-03T03:24:06.618101Z"
    }
   },
   "outputs": [
    {
     "name": "stdout",
     "output_type": "stream",
     "text": [
      "No. of categorical columns are: 10\n"
     ]
    }
   ],
   "source": [
    "# Categorical variables\n",
    "\n",
    "cat_columns = [\n",
    "    'symboling', 'fueltype', 'aspiration', 'doornumber', 'carbody',\n",
    "    'drivewheel', 'enginelocation', 'enginetype', 'cylindernumber',\n",
    "    'fuelsystem'\n",
    "]\n",
    "print('No. of categorical columns are:', len(cat_columns))"
   ]
  },
  {
   "cell_type": "code",
   "execution_count": 4,
   "metadata": {
    "ExecuteTime": {
     "end_time": "2022-08-26T09:33:22.243589Z",
     "start_time": "2022-08-26T09:33:22.217497Z"
    },
    "execution": {
     "iopub.execute_input": "2021-12-03T03:24:06.624596Z",
     "iopub.status.busy": "2021-12-03T03:24:06.624264Z",
     "iopub.status.idle": "2021-12-03T03:24:06.636869Z",
     "shell.execute_reply": "2021-12-03T03:24:06.636023Z",
     "shell.execute_reply.started": "2021-12-03T03:24:06.624566Z"
    }
   },
   "outputs": [
    {
     "name": "stdout",
     "output_type": "stream",
     "text": [
      "No. of numerical/float columns are: 16\n"
     ]
    }
   ],
   "source": [
    "# Numerical columns\n",
    "\n",
    "num_columns = []\n",
    "for col in df.columns:\n",
    "    if col not in cat_columns:\n",
    "        num_columns.append(col)\n",
    "print('No. of numerical/float columns are:', len(num_columns))"
   ]
  },
  {
   "cell_type": "markdown",
   "metadata": {},
   "source": [
    "# II. Exploring Features\n",
    "   ## II.1 Categorical"
   ]
  },
  {
   "cell_type": "code",
   "execution_count": null,
   "metadata": {
    "ExecuteTime": {
     "end_time": "2022-08-26T09:21:29.308455Z",
     "start_time": "2022-08-26T09:21:25.104116Z"
    },
    "_kg_hide-input": true,
    "execution": {
     "iopub.execute_input": "2021-12-03T03:24:06.654106Z",
     "iopub.status.busy": "2021-12-03T03:24:06.653525Z",
     "iopub.status.idle": "2021-12-03T03:24:07.14948Z",
     "shell.execute_reply": "2021-12-03T03:24:07.148515Z",
     "shell.execute_reply.started": "2021-12-03T03:24:06.654069Z"
    },
    "scrolled": true
   },
   "outputs": [],
   "source": [
    "for col_to_explore in cat_columns:\n",
    "\n",
    "    fig, ax = plt.subplots(1, 2, figsize=(10, 5))\n",
    "    x = df[col_to_explore].value_counts().index\n",
    "    y = df[col_to_explore].value_counts().values.tolist()\n",
    "\n",
    "    data = df.groupby(col_to_explore).size()\n",
    "    sns.set(style=\"dark\", color_codes=True)\n",
    "    pal = sns.color_palette(\"magma\", len(data))\n",
    "    rank = data.argsort().argsort()\n",
    "    sns.barplot(x=x, y=y, palette=np.array(pal[::-1])[rank], ax=ax[0])\n",
    "\n",
    "    for p in ax[0].patches:\n",
    "        ax[0].annotate('{:.0f}'.format(p.get_height()),\n",
    "                       (p.get_x() + 0.3, p.get_height()),\n",
    "                       ha='center',\n",
    "                       va='bottom',\n",
    "                       color='black')\n",
    "\n",
    "    ax[0].set_xlabel('Types of ' + col_to_explore,\n",
    "                     weight='semibold',\n",
    "                     fontname='monospace')\n",
    "    _, _, autotexts = ax[1].pie(\n",
    "        y,\n",
    "        labels=x,\n",
    "        colors=pal,\n",
    "        autopct='%1.1f%%',\n",
    "        explode=[0.03 for i in df[col_to_explore].value_counts().index])\n",
    "\n",
    "    for autotext in autotexts:\n",
    "        autotext.set_color('white')\n",
    "\n",
    "    plt.legend(bbox_to_anchor=(1, 1))\n",
    "    plt.suptitle('Types of ' + col_to_explore, weight='bold')\n",
    "    plt.show()"
   ]
  },
  {
   "cell_type": "code",
   "execution_count": null,
   "metadata": {
    "ExecuteTime": {
     "end_time": "2022-08-26T09:21:52.206373Z",
     "start_time": "2022-08-26T09:21:50.721408Z"
    },
    "_kg_hide-input": true,
    "execution": {
     "iopub.execute_input": "2021-12-03T03:24:11.394775Z",
     "iopub.status.busy": "2021-12-03T03:24:11.394531Z",
     "iopub.status.idle": "2021-12-03T03:24:13.798734Z",
     "shell.execute_reply": "2021-12-03T03:24:13.797708Z",
     "shell.execute_reply.started": "2021-12-03T03:24:11.394743Z"
    },
    "scrolled": true
   },
   "outputs": [],
   "source": [
    "sns.set_theme(rc={\n",
    "    'figure.dpi': 250,\n",
    "    'axes.labelsize': 7,\n",
    "    'axes.facecolor': 'lightgrey',\n",
    "    'grid.color': 'white',\n",
    "    'figure.facecolor': 'white'\n",
    "},\n",
    "              font_scale=0.55)\n",
    "\n",
    "fig, ax = plt.subplots(5, 2, figsize=(6.5, 8))\n",
    "col_to_display = list(enumerate(list(zip(cat_columns, ax.flatten()))))\n",
    "\n",
    "for indx, (column, axes) in col_to_display:\n",
    "\n",
    "    sns.countplot(ax=axes,\n",
    "                  x=df[column],\n",
    "                  hue=df['doornumber'],\n",
    "                  palette='magma',\n",
    "                  alpha=0.8)\n",
    "\n",
    "else:\n",
    "    [axes.set_visible(False) for axes in ax.flatten()[indx + 1:]]\n",
    "\n",
    "axes_legend = ax.flatten()\n",
    "axes_legend[1].legend(title='doornumber', loc='upper right')\n",
    "axes_legend[2].legend(title='doornumber', loc='upper right')\n",
    "\n",
    "plt.tight_layout()\n",
    "plt.show()"
   ]
  },
  {
   "cell_type": "code",
   "execution_count": null,
   "metadata": {
    "ExecuteTime": {
     "end_time": "2022-08-26T08:58:37.951065Z",
     "start_time": "2022-08-26T08:58:36.771230Z"
    },
    "_kg_hide-input": true,
    "execution": {
     "iopub.execute_input": "2021-12-03T03:24:13.80064Z",
     "iopub.status.busy": "2021-12-03T03:24:13.800403Z",
     "iopub.status.idle": "2021-12-03T03:24:16.32172Z",
     "shell.execute_reply": "2021-12-03T03:24:16.320809Z",
     "shell.execute_reply.started": "2021-12-03T03:24:13.800612Z"
    },
    "scrolled": true
   },
   "outputs": [],
   "source": [
    "fig, ax = plt.subplots(5, 2, figsize=(6.5, 8))\n",
    "col_to_display = list(enumerate(list(zip(cat_columns, ax.flatten()))))\n",
    "\n",
    "for indx, (column, axes) in col_to_display:\n",
    "    sns.countplot(ax=axes,\n",
    "                  x=df[column],\n",
    "                  hue=df['fueltype'],\n",
    "                  palette='magma',\n",
    "                  alpha=0.8)\n",
    "\n",
    "else:\n",
    "    [axes.set_visible(False) for axes in ax.flatten()[indx + 1:]]\n",
    "\n",
    "axes_legend = ax.flatten()\n",
    "axes_legend[1].legend(title='fueltype', loc='upper right')\n",
    "axes_legend[2].legend(title='fueltype', loc='upper right')\n",
    "\n",
    "\n",
    "plt.tight_layout()\n",
    "plt.show()"
   ]
  },
  {
   "cell_type": "markdown",
   "metadata": {},
   "source": [
    "# II. Exploring Features\n",
    "   ## II.2 Numerical"
   ]
  },
  {
   "cell_type": "code",
   "execution_count": null,
   "metadata": {
    "ExecuteTime": {
     "end_time": "2022-08-26T08:58:54.936003Z",
     "start_time": "2022-08-26T08:58:51.870314Z"
    },
    "_kg_hide-input": true,
    "execution": {
     "iopub.execute_input": "2021-12-03T03:24:16.32752Z",
     "iopub.status.busy": "2021-12-03T03:24:16.327281Z",
     "iopub.status.idle": "2021-12-03T03:24:20.701857Z",
     "shell.execute_reply": "2021-12-03T03:24:20.697394Z",
     "shell.execute_reply.started": "2021-12-03T03:24:16.327492Z"
    }
   },
   "outputs": [],
   "source": [
    "fig, ax = plt.subplots(14, 1, figsize=(7, 30))\n",
    "col_to_display = list(enumerate(list(zip(num_columns, ax.flatten()))))\n",
    "\n",
    "for indx, (column, axes) in col_to_display:\n",
    "    sns.scatterplot(ax=axes,\n",
    "                    y=df[column].index,\n",
    "                    x=df[column],\n",
    "                    hue=df['doornumber'],\n",
    "                    palette='magma',\n",
    "                    alpha=0.8)\n",
    "\n",
    "else:\n",
    "    [axes.set_visible(False) for axes in ax.flatten()[indx + 1:]]\n",
    "\n",
    "plt.tight_layout()\n",
    "plt.show()"
   ]
  },
  {
   "cell_type": "code",
   "execution_count": null,
   "metadata": {
    "ExecuteTime": {
     "end_time": "2022-08-26T09:23:10.558425Z",
     "start_time": "2022-08-26T09:23:08.199758Z"
    },
    "_kg_hide-input": true,
    "execution": {
     "iopub.execute_input": "2021-12-03T03:24:20.703392Z",
     "iopub.status.busy": "2021-12-03T03:24:20.703136Z",
     "iopub.status.idle": "2021-12-03T03:24:26.720497Z",
     "shell.execute_reply": "2021-12-03T03:24:26.719552Z",
     "shell.execute_reply.started": "2021-12-03T03:24:20.703363Z"
    }
   },
   "outputs": [],
   "source": [
    "fig, ax = plt.subplots(14, 1, figsize=(5, 20))\n",
    "col_to_display = list(enumerate(list(zip(num_columns, ax.flatten()))))\n",
    "\n",
    "for indx, (column, axes) in col_to_display:\n",
    "    sns.histplot(ax=axes,\n",
    "                 x=df[column],\n",
    "                 hue=df['doornumber'],\n",
    "                 palette='magma',\n",
    "                 alpha=0.8,\n",
    "                 multiple='stack')\n",
    "\n",
    "    legend = axes.get_legend()  # sns.hisplot has some issues with legend\n",
    "    handles = legend.legendHandles\n",
    "    legend.remove()\n",
    "    axes.legend(handles, ['0', '1'], title='Survived', loc='upper right')\n",
    "    Quantiles = np.quantile(df[column], [0, 0.25, 0.50, 0.75, 1])\n",
    "\n",
    "    for q in Quantiles:\n",
    "        axes.axvline(x=q, linewidth=0.5, color='r')\n",
    "\n",
    "plt.tight_layout()\n",
    "plt.show()"
   ]
  },
  {
   "cell_type": "code",
   "execution_count": null,
   "metadata": {
    "ExecuteTime": {
     "end_time": "2022-08-26T09:00:40.391005Z",
     "start_time": "2022-08-26T09:00:38.939443Z"
    },
    "_kg_hide-input": true,
    "execution": {
     "iopub.execute_input": "2021-12-03T03:24:26.721921Z",
     "iopub.status.busy": "2021-12-03T03:24:26.72169Z",
     "iopub.status.idle": "2021-12-03T03:24:29.587493Z",
     "shell.execute_reply": "2021-12-03T03:24:29.586628Z",
     "shell.execute_reply.started": "2021-12-03T03:24:26.721891Z"
    }
   },
   "outputs": [],
   "source": [
    "fig, ax = plt.subplots(5, 2, figsize=(6.5, 10))\n",
    "col_to_display = list(enumerate(list(zip(cat_columns, ax.flatten()))))\n",
    "\n",
    "for indx, (column, axes) in col_to_display:\n",
    "\n",
    "    sns.violinplot(ax=axes,\n",
    "                   x=df[column],\n",
    "                   y=df['price'],\n",
    "                   scale='width',\n",
    "                   linewidth=0.5,\n",
    "                   palette='magma',\n",
    "                   inner=None)\n",
    "\n",
    "    plt.setp(axes.collections, alpha=0.3)\n",
    "\n",
    "    sns.stripplot(ax=axes,\n",
    "                  x=df[column],\n",
    "                  y=df['price'],\n",
    "                  palette='magma',\n",
    "                  alpha=0.9,\n",
    "                  s=1.5,\n",
    "                  jitter=0.07)\n",
    "    sns.pointplot(ax=axes,\n",
    "                  x=df[column],\n",
    "                  y=df['price'],\n",
    "                  color='#ff5736',\n",
    "                  scale=0.25,\n",
    "                  estimator=np.mean,\n",
    "                  ci='sd',\n",
    "                  errwidth=0.5,\n",
    "                  capsize=0.15,\n",
    "                  join=True)\n",
    "\n",
    "    plt.setp(axes.lines, zorder=100)\n",
    "    plt.setp(axes.collections, zorder=100)\n",
    "\n",
    "else:\n",
    "    [axes.set_visible(False) for axes in ax.flatten()[indx + 1:]]\n",
    "\n",
    "plt.tight_layout()\n",
    "plt.show()"
   ]
  },
  {
   "cell_type": "code",
   "execution_count": null,
   "metadata": {
    "ExecuteTime": {
     "end_time": "2022-08-26T09:01:56.373130Z",
     "start_time": "2022-08-26T09:01:55.195806Z"
    },
    "_kg_hide-input": true,
    "execution": {
     "iopub.execute_input": "2021-12-03T03:24:30.187156Z",
     "iopub.status.busy": "2021-12-03T03:24:30.186903Z",
     "iopub.status.idle": "2021-12-03T03:24:31.705342Z",
     "shell.execute_reply": "2021-12-03T03:24:31.704292Z",
     "shell.execute_reply.started": "2021-12-03T03:24:30.187124Z"
    }
   },
   "outputs": [],
   "source": [
    "# Facet along the columns to show a categorical variable using \"col\" parameter\n",
    "plt.figure(figsize=(11, 5))\n",
    "sns.catplot(x=\"symboling\",\n",
    "            y=\"price\",\n",
    "            hue=\"fueltype\",\n",
    "            col=\"doornumber\",\n",
    "            kind=\"boxen\",\n",
    "            palette=\"Set2\",\n",
    "            height=8,\n",
    "            aspect=1,\n",
    "            data=df)\n",
    "plt.show()"
   ]
  },
  {
   "cell_type": "code",
   "execution_count": null,
   "metadata": {
    "ExecuteTime": {
     "end_time": "2022-08-26T08:34:27.736722Z",
     "start_time": "2022-08-26T08:34:27.696319Z"
    },
    "execution": {
     "iopub.execute_input": "2021-12-03T03:24:34.611381Z",
     "iopub.status.busy": "2021-12-03T03:24:34.61113Z",
     "iopub.status.idle": "2021-12-03T03:24:34.642372Z",
     "shell.execute_reply": "2021-12-03T03:24:34.641296Z",
     "shell.execute_reply.started": "2021-12-03T03:24:34.611351Z"
    }
   },
   "outputs": [],
   "source": [
    "df1 = df[df['drivewheel'].isin(['rwd', 'fwd', '4wd'])]\n",
    "df1.head()"
   ]
  },
  {
   "cell_type": "code",
   "execution_count": null,
   "metadata": {
    "ExecuteTime": {
     "end_time": "2022-08-26T09:24:29.473775Z",
     "start_time": "2022-08-26T09:24:27.172939Z"
    },
    "_kg_hide-input": true,
    "execution": {
     "iopub.execute_input": "2021-12-03T03:24:37.051264Z",
     "iopub.status.busy": "2021-12-03T03:24:37.050525Z",
     "iopub.status.idle": "2021-12-03T03:24:41.273986Z",
     "shell.execute_reply": "2021-12-03T03:24:41.273297Z",
     "shell.execute_reply.started": "2021-12-03T03:24:37.05119Z"
    }
   },
   "outputs": [],
   "source": [
    "# Plot a subset of variables\n",
    "g = sns.PairGrid(df1,\n",
    "                 hue='drivewheel',\n",
    "                 vars=[\"carlength\", \"carwidth\", \"carheight\"],\n",
    "                 height=5,\n",
    "                 aspect=1)\n",
    "g = g.map_offdiag(plt.scatter, edgecolor=\"w\", s=130)\n",
    "g = g.map_diag(plt.hist, edgecolor='w', linewidth=2)\n",
    "g = g.add_legend()\n",
    "g.fig.set_size_inches(11, 8)\n",
    "\n",
    "plt.show()"
   ]
  },
  {
   "cell_type": "code",
   "execution_count": null,
   "metadata": {
    "ExecuteTime": {
     "end_time": "2022-08-26T09:24:41.860102Z",
     "start_time": "2022-08-26T09:24:40.055763Z"
    },
    "_kg_hide-input": true,
    "execution": {
     "iopub.execute_input": "2021-12-03T03:24:41.275762Z",
     "iopub.status.busy": "2021-12-03T03:24:41.275333Z",
     "iopub.status.idle": "2021-12-03T03:24:45.273682Z",
     "shell.execute_reply": "2021-12-03T03:24:45.272963Z",
     "shell.execute_reply.started": "2021-12-03T03:24:41.275728Z"
    }
   },
   "outputs": [],
   "source": [
    "# Plot a subset of variables\n",
    "g = sns.PairGrid(df1,\n",
    "                 hue='drivewheel',\n",
    "                 vars=[\"horsepower\", \"peakrpm\", \"price\"],\n",
    "                 height=5,\n",
    "                 aspect=1)\n",
    "g = g.map_offdiag(plt.scatter, edgecolor=\"w\", s=130)\n",
    "g = g.map_diag(plt.hist, edgecolor='w', linewidth=2)\n",
    "g = g.add_legend()\n",
    "g.fig.set_size_inches(9, 7)\n",
    "\n",
    "plt.show()"
   ]
  },
  {
   "cell_type": "code",
   "execution_count": null,
   "metadata": {
    "ExecuteTime": {
     "end_time": "2022-08-26T09:25:04.392040Z",
     "start_time": "2022-08-26T09:25:03.402400Z"
    },
    "_kg_hide-input": true,
    "execution": {
     "iopub.execute_input": "2021-12-03T03:24:45.275088Z",
     "iopub.status.busy": "2021-12-03T03:24:45.274733Z",
     "iopub.status.idle": "2021-12-03T03:24:46.685165Z",
     "shell.execute_reply": "2021-12-03T03:24:46.684562Z",
     "shell.execute_reply.started": "2021-12-03T03:24:45.275044Z"
    }
   },
   "outputs": [],
   "source": [
    "corr_mat = df.corr().round(2)\n",
    "f, ax = plt.subplots(figsize=(12, 7))\n",
    "mask = np.triu(np.ones_like(corr_mat, dtype=bool))\n",
    "mask = mask[1:, :-1]\n",
    "corr = corr_mat.iloc[1:, :-1].copy()\n",
    "sns.heatmap(corr,\n",
    "            mask=mask,\n",
    "            vmin=-0.3,\n",
    "            vmax=0.3,\n",
    "            center=0,\n",
    "            cmap='RdPu_r',\n",
    "            square=False,\n",
    "            lw=2,\n",
    "            annot=True,\n",
    "            cbar=False)\n",
    "#     bottom, top = ax.get_ylim()\n",
    "#     ax.set_ylim(bottom + 0.5, top - 0.5)\n",
    "ax.set_title('Shifted Linear Correlation Matrix')"
   ]
  },
  {
   "cell_type": "markdown",
   "metadata": {},
   "source": [
    "# III. Data preparation for regression\n",
    "## III.1 # Data Preprocessing"
   ]
  },
  {
   "cell_type": "code",
   "execution_count": 5,
   "metadata": {
    "ExecuteTime": {
     "end_time": "2022-08-26T09:33:29.591118Z",
     "start_time": "2022-08-26T09:33:29.507863Z"
    },
    "execution": {
     "iopub.execute_input": "2021-12-03T03:24:46.686594Z",
     "iopub.status.busy": "2021-12-03T03:24:46.686133Z",
     "iopub.status.idle": "2021-12-03T03:24:46.691535Z",
     "shell.execute_reply": "2021-12-03T03:24:46.690734Z",
     "shell.execute_reply.started": "2021-12-03T03:24:46.686562Z"
    }
   },
   "outputs": [
    {
     "name": "stdout",
     "output_type": "stream",
     "text": [
      "dataset before encoding\n"
     ]
    },
    {
     "data": {
      "text/html": [
       "<div>\n",
       "<style scoped>\n",
       "    .dataframe tbody tr th:only-of-type {\n",
       "        vertical-align: middle;\n",
       "    }\n",
       "\n",
       "    .dataframe tbody tr th {\n",
       "        vertical-align: top;\n",
       "    }\n",
       "\n",
       "    .dataframe thead th {\n",
       "        text-align: right;\n",
       "    }\n",
       "</style>\n",
       "<table border=\"1\" class=\"dataframe\">\n",
       "  <thead>\n",
       "    <tr style=\"text-align: right;\">\n",
       "      <th></th>\n",
       "      <th>symboling</th>\n",
       "      <th>fueltype</th>\n",
       "      <th>aspiration</th>\n",
       "      <th>doornumber</th>\n",
       "      <th>carbody</th>\n",
       "      <th>drivewheel</th>\n",
       "      <th>enginelocation</th>\n",
       "      <th>enginetype</th>\n",
       "      <th>cylindernumber</th>\n",
       "      <th>fuelsystem</th>\n",
       "    </tr>\n",
       "  </thead>\n",
       "  <tbody>\n",
       "    <tr>\n",
       "      <th>0</th>\n",
       "      <td>3</td>\n",
       "      <td>gas</td>\n",
       "      <td>std</td>\n",
       "      <td>two</td>\n",
       "      <td>convertible</td>\n",
       "      <td>rwd</td>\n",
       "      <td>front</td>\n",
       "      <td>dohc</td>\n",
       "      <td>four</td>\n",
       "      <td>mpfi</td>\n",
       "    </tr>\n",
       "    <tr>\n",
       "      <th>1</th>\n",
       "      <td>3</td>\n",
       "      <td>gas</td>\n",
       "      <td>std</td>\n",
       "      <td>two</td>\n",
       "      <td>convertible</td>\n",
       "      <td>rwd</td>\n",
       "      <td>front</td>\n",
       "      <td>dohc</td>\n",
       "      <td>four</td>\n",
       "      <td>mpfi</td>\n",
       "    </tr>\n",
       "    <tr>\n",
       "      <th>2</th>\n",
       "      <td>1</td>\n",
       "      <td>gas</td>\n",
       "      <td>std</td>\n",
       "      <td>two</td>\n",
       "      <td>hatchback</td>\n",
       "      <td>rwd</td>\n",
       "      <td>front</td>\n",
       "      <td>ohcv</td>\n",
       "      <td>six</td>\n",
       "      <td>mpfi</td>\n",
       "    </tr>\n",
       "  </tbody>\n",
       "</table>\n",
       "</div>"
      ],
      "text/plain": [
       "   symboling fueltype aspiration doornumber      carbody drivewheel  \\\n",
       "0          3      gas        std        two  convertible        rwd   \n",
       "1          3      gas        std        two  convertible        rwd   \n",
       "2          1      gas        std        two    hatchback        rwd   \n",
       "\n",
       "  enginelocation enginetype cylindernumber fuelsystem  \n",
       "0          front       dohc           four       mpfi  \n",
       "1          front       dohc           four       mpfi  \n",
       "2          front       ohcv            six       mpfi  "
      ]
     },
     "metadata": {},
     "output_type": "display_data"
    },
    {
     "name": "stdout",
     "output_type": "stream",
     "text": [
      "dataset after encoding\n"
     ]
    },
    {
     "data": {
      "text/html": [
       "<div>\n",
       "<style scoped>\n",
       "    .dataframe tbody tr th:only-of-type {\n",
       "        vertical-align: middle;\n",
       "    }\n",
       "\n",
       "    .dataframe tbody tr th {\n",
       "        vertical-align: top;\n",
       "    }\n",
       "\n",
       "    .dataframe thead th {\n",
       "        text-align: right;\n",
       "    }\n",
       "</style>\n",
       "<table border=\"1\" class=\"dataframe\">\n",
       "  <thead>\n",
       "    <tr style=\"text-align: right;\">\n",
       "      <th></th>\n",
       "      <th>symboling</th>\n",
       "      <th>fueltype</th>\n",
       "      <th>aspiration</th>\n",
       "      <th>doornumber</th>\n",
       "      <th>carbody</th>\n",
       "      <th>drivewheel</th>\n",
       "      <th>enginelocation</th>\n",
       "      <th>enginetype</th>\n",
       "      <th>cylindernumber</th>\n",
       "      <th>fuelsystem</th>\n",
       "    </tr>\n",
       "  </thead>\n",
       "  <tbody>\n",
       "    <tr>\n",
       "      <th>0</th>\n",
       "      <td>3</td>\n",
       "      <td>1</td>\n",
       "      <td>0</td>\n",
       "      <td>1</td>\n",
       "      <td>0</td>\n",
       "      <td>2</td>\n",
       "      <td>0</td>\n",
       "      <td>0</td>\n",
       "      <td>2</td>\n",
       "      <td>5</td>\n",
       "    </tr>\n",
       "    <tr>\n",
       "      <th>1</th>\n",
       "      <td>3</td>\n",
       "      <td>1</td>\n",
       "      <td>0</td>\n",
       "      <td>1</td>\n",
       "      <td>0</td>\n",
       "      <td>2</td>\n",
       "      <td>0</td>\n",
       "      <td>0</td>\n",
       "      <td>2</td>\n",
       "      <td>5</td>\n",
       "    </tr>\n",
       "    <tr>\n",
       "      <th>2</th>\n",
       "      <td>1</td>\n",
       "      <td>1</td>\n",
       "      <td>0</td>\n",
       "      <td>1</td>\n",
       "      <td>2</td>\n",
       "      <td>2</td>\n",
       "      <td>0</td>\n",
       "      <td>5</td>\n",
       "      <td>3</td>\n",
       "      <td>5</td>\n",
       "    </tr>\n",
       "  </tbody>\n",
       "</table>\n",
       "</div>"
      ],
      "text/plain": [
       "   symboling  fueltype  aspiration  doornumber  carbody  drivewheel  \\\n",
       "0          3         1           0           1        0           2   \n",
       "1          3         1           0           1        0           2   \n",
       "2          1         1           0           1        2           2   \n",
       "\n",
       "   enginelocation  enginetype  cylindernumber  fuelsystem  \n",
       "0               0           0               2           5  \n",
       "1               0           0               2           5  \n",
       "2               0           5               3           5  "
      ]
     },
     "metadata": {},
     "output_type": "display_data"
    }
   ],
   "source": [
    "from sklearn import preprocessing\n",
    "\n",
    "def LABEL_ENCODING(c1):\n",
    "    label_encoder = preprocessing.LabelEncoder()\n",
    "    df[c1] = label_encoder.fit_transform(df[c1])\n",
    "    df[c1].unique() \n",
    "\n",
    "print('dataset before encoding')\n",
    "display(df[cat_columns].head(3))\n",
    "\n",
    "LABEL_ENCODING(\"fueltype\")\n",
    "LABEL_ENCODING(\"aspiration\")\n",
    "LABEL_ENCODING(\"doornumber\")\n",
    "LABEL_ENCODING(\"carbody\")\n",
    "LABEL_ENCODING(\"drivewheel\")\n",
    "LABEL_ENCODING(\"enginelocation\")\n",
    "LABEL_ENCODING(\"enginetype\")\n",
    "LABEL_ENCODING(\"cylindernumber\")\n",
    "LABEL_ENCODING(\"fuelsystem\")\n",
    "\n",
    "print('dataset after encoding')\n",
    "display(df[cat_columns].head(3))"
   ]
  },
  {
   "cell_type": "markdown",
   "metadata": {},
   "source": [
    "## III.2 Feature Scaling"
   ]
  },
  {
   "cell_type": "code",
   "execution_count": 9,
   "metadata": {
    "ExecuteTime": {
     "end_time": "2022-08-26T09:35:04.270343Z",
     "start_time": "2022-08-26T09:35:04.239983Z"
    },
    "execution": {
     "iopub.execute_input": "2021-12-03T03:24:46.775404Z",
     "iopub.status.busy": "2021-12-03T03:24:46.775135Z",
     "iopub.status.idle": "2021-12-03T03:24:46.799096Z",
     "shell.execute_reply": "2021-12-03T03:24:46.798267Z",
     "shell.execute_reply.started": "2021-12-03T03:24:46.775371Z"
    }
   },
   "outputs": [],
   "source": [
    "from sklearn.preprocessing import StandardScaler\n",
    "from sklearn.metrics import classification_report, confusion_matrix\n",
    "\n",
    "scaler = StandardScaler()\n",
    "scaler.fit(df.drop(['price', 'CarName'], axis=1))\n",
    "scaled_features = scaler.transform(df.drop(['price', 'CarName'], axis=1))"
   ]
  },
  {
   "cell_type": "code",
   "execution_count": 12,
   "metadata": {
    "ExecuteTime": {
     "end_time": "2022-08-26T09:35:23.802150Z",
     "start_time": "2022-08-26T09:35:23.775216Z"
    },
    "execution": {
     "iopub.execute_input": "2021-12-03T03:24:46.801193Z",
     "iopub.status.busy": "2021-12-03T03:24:46.800611Z",
     "iopub.status.idle": "2021-12-03T03:24:46.808152Z",
     "shell.execute_reply": "2021-12-03T03:24:46.80698Z",
     "shell.execute_reply.started": "2021-12-03T03:24:46.801137Z"
    }
   },
   "outputs": [],
   "source": [
    "X = scaled_features\n",
    "Y = df['price']\n",
    "X = pd.DataFrame(data=X, columns=df.drop(columns=['price', 'CarName']).columns)"
   ]
  },
  {
   "cell_type": "code",
   "execution_count": 13,
   "metadata": {
    "ExecuteTime": {
     "end_time": "2022-08-26T09:35:25.428236Z",
     "start_time": "2022-08-26T09:35:25.384911Z"
    },
    "execution": {
     "iopub.execute_input": "2021-12-03T03:24:46.810444Z",
     "iopub.status.busy": "2021-12-03T03:24:46.809559Z",
     "iopub.status.idle": "2021-12-03T03:24:46.860936Z",
     "shell.execute_reply": "2021-12-03T03:24:46.859992Z",
     "shell.execute_reply.started": "2021-12-03T03:24:46.810404Z"
    }
   },
   "outputs": [
    {
     "data": {
      "text/html": [
       "<div>\n",
       "<style scoped>\n",
       "    .dataframe tbody tr th:only-of-type {\n",
       "        vertical-align: middle;\n",
       "    }\n",
       "\n",
       "    .dataframe tbody tr th {\n",
       "        vertical-align: top;\n",
       "    }\n",
       "\n",
       "    .dataframe thead th {\n",
       "        text-align: right;\n",
       "    }\n",
       "</style>\n",
       "<table border=\"1\" class=\"dataframe\">\n",
       "  <thead>\n",
       "    <tr style=\"text-align: right;\">\n",
       "      <th></th>\n",
       "      <th>car_ID</th>\n",
       "      <th>symboling</th>\n",
       "      <th>fueltype</th>\n",
       "      <th>aspiration</th>\n",
       "      <th>doornumber</th>\n",
       "      <th>carbody</th>\n",
       "      <th>drivewheel</th>\n",
       "      <th>enginelocation</th>\n",
       "      <th>wheelbase</th>\n",
       "      <th>carlength</th>\n",
       "      <th>...</th>\n",
       "      <th>cylindernumber</th>\n",
       "      <th>enginesize</th>\n",
       "      <th>fuelsystem</th>\n",
       "      <th>boreratio</th>\n",
       "      <th>stroke</th>\n",
       "      <th>compressionratio</th>\n",
       "      <th>horsepower</th>\n",
       "      <th>peakrpm</th>\n",
       "      <th>citympg</th>\n",
       "      <th>highwaympg</th>\n",
       "    </tr>\n",
       "  </thead>\n",
       "  <tbody>\n",
       "    <tr>\n",
       "      <th>car_ID</th>\n",
       "      <td>1.000000</td>\n",
       "      <td>-0.151621</td>\n",
       "      <td>-0.125568</td>\n",
       "      <td>0.067729</td>\n",
       "      <td>-0.190352</td>\n",
       "      <td>0.098303</td>\n",
       "      <td>0.051406</td>\n",
       "      <td>0.051483</td>\n",
       "      <td>0.129729</td>\n",
       "      <td>0.170636</td>\n",
       "      <td>...</td>\n",
       "      <td>-0.040912</td>\n",
       "      <td>-0.033930</td>\n",
       "      <td>0.204898</td>\n",
       "      <td>0.260064</td>\n",
       "      <td>-0.160824</td>\n",
       "      <td>0.150276</td>\n",
       "      <td>-0.015006</td>\n",
       "      <td>-0.203789</td>\n",
       "      <td>0.015940</td>\n",
       "      <td>0.011255</td>\n",
       "    </tr>\n",
       "    <tr>\n",
       "      <th>symboling</th>\n",
       "      <td>-0.151621</td>\n",
       "      <td>1.000000</td>\n",
       "      <td>0.194311</td>\n",
       "      <td>-0.059866</td>\n",
       "      <td>0.664073</td>\n",
       "      <td>-0.596135</td>\n",
       "      <td>-0.041671</td>\n",
       "      <td>0.212471</td>\n",
       "      <td>-0.531954</td>\n",
       "      <td>-0.357612</td>\n",
       "      <td>...</td>\n",
       "      <td>0.197762</td>\n",
       "      <td>-0.105790</td>\n",
       "      <td>0.091163</td>\n",
       "      <td>-0.130051</td>\n",
       "      <td>-0.008735</td>\n",
       "      <td>-0.178515</td>\n",
       "      <td>0.070873</td>\n",
       "      <td>0.273606</td>\n",
       "      <td>-0.035823</td>\n",
       "      <td>0.034606</td>\n",
       "    </tr>\n",
       "    <tr>\n",
       "      <th>fueltype</th>\n",
       "      <td>-0.125568</td>\n",
       "      <td>0.194311</td>\n",
       "      <td>1.000000</td>\n",
       "      <td>-0.401397</td>\n",
       "      <td>0.191491</td>\n",
       "      <td>-0.147853</td>\n",
       "      <td>-0.132257</td>\n",
       "      <td>0.040070</td>\n",
       "      <td>-0.308346</td>\n",
       "      <td>-0.212679</td>\n",
       "      <td>...</td>\n",
       "      <td>0.110617</td>\n",
       "      <td>-0.069594</td>\n",
       "      <td>0.041529</td>\n",
       "      <td>-0.054451</td>\n",
       "      <td>-0.241829</td>\n",
       "      <td>-0.984356</td>\n",
       "      <td>0.163926</td>\n",
       "      <td>0.476883</td>\n",
       "      <td>-0.255963</td>\n",
       "      <td>-0.191392</td>\n",
       "    </tr>\n",
       "    <tr>\n",
       "      <th>aspiration</th>\n",
       "      <td>0.067729</td>\n",
       "      <td>-0.059866</td>\n",
       "      <td>-0.401397</td>\n",
       "      <td>1.000000</td>\n",
       "      <td>-0.031792</td>\n",
       "      <td>0.063028</td>\n",
       "      <td>0.066465</td>\n",
       "      <td>-0.057191</td>\n",
       "      <td>0.257611</td>\n",
       "      <td>0.234539</td>\n",
       "      <td>...</td>\n",
       "      <td>-0.133119</td>\n",
       "      <td>0.108217</td>\n",
       "      <td>0.288086</td>\n",
       "      <td>0.212614</td>\n",
       "      <td>0.222982</td>\n",
       "      <td>0.295541</td>\n",
       "      <td>0.241685</td>\n",
       "      <td>-0.183383</td>\n",
       "      <td>-0.202362</td>\n",
       "      <td>-0.254416</td>\n",
       "    </tr>\n",
       "    <tr>\n",
       "      <th>doornumber</th>\n",
       "      <td>-0.190352</td>\n",
       "      <td>0.664073</td>\n",
       "      <td>0.191491</td>\n",
       "      <td>-0.031792</td>\n",
       "      <td>1.000000</td>\n",
       "      <td>-0.680358</td>\n",
       "      <td>0.098954</td>\n",
       "      <td>0.137757</td>\n",
       "      <td>-0.447357</td>\n",
       "      <td>-0.398568</td>\n",
       "      <td>...</td>\n",
       "      <td>0.154322</td>\n",
       "      <td>-0.020742</td>\n",
       "      <td>0.015519</td>\n",
       "      <td>-0.119258</td>\n",
       "      <td>0.011082</td>\n",
       "      <td>-0.177888</td>\n",
       "      <td>0.126947</td>\n",
       "      <td>0.247668</td>\n",
       "      <td>0.012417</td>\n",
       "      <td>0.036330</td>\n",
       "    </tr>\n",
       "    <tr>\n",
       "      <th>carbody</th>\n",
       "      <td>0.098303</td>\n",
       "      <td>-0.596135</td>\n",
       "      <td>-0.147853</td>\n",
       "      <td>0.063028</td>\n",
       "      <td>-0.680358</td>\n",
       "      <td>1.000000</td>\n",
       "      <td>-0.155745</td>\n",
       "      <td>-0.277009</td>\n",
       "      <td>0.401362</td>\n",
       "      <td>0.334433</td>\n",
       "      <td>...</td>\n",
       "      <td>-0.048408</td>\n",
       "      <td>-0.073352</td>\n",
       "      <td>-0.065079</td>\n",
       "      <td>0.010549</td>\n",
       "      <td>-0.015325</td>\n",
       "      <td>0.136243</td>\n",
       "      <td>-0.153928</td>\n",
       "      <td>-0.109643</td>\n",
       "      <td>0.031697</td>\n",
       "      <td>-0.007170</td>\n",
       "    </tr>\n",
       "    <tr>\n",
       "      <th>drivewheel</th>\n",
       "      <td>0.051406</td>\n",
       "      <td>-0.041671</td>\n",
       "      <td>-0.132257</td>\n",
       "      <td>0.066465</td>\n",
       "      <td>0.098954</td>\n",
       "      <td>-0.155745</td>\n",
       "      <td>1.000000</td>\n",
       "      <td>0.147865</td>\n",
       "      <td>0.459745</td>\n",
       "      <td>0.485649</td>\n",
       "      <td>...</td>\n",
       "      <td>0.223238</td>\n",
       "      <td>0.524307</td>\n",
       "      <td>0.424686</td>\n",
       "      <td>0.481827</td>\n",
       "      <td>0.071591</td>\n",
       "      <td>0.127479</td>\n",
       "      <td>0.518686</td>\n",
       "      <td>-0.039417</td>\n",
       "      <td>-0.449581</td>\n",
       "      <td>-0.452220</td>\n",
       "    </tr>\n",
       "    <tr>\n",
       "      <th>enginelocation</th>\n",
       "      <td>0.051483</td>\n",
       "      <td>0.212471</td>\n",
       "      <td>0.040070</td>\n",
       "      <td>-0.057191</td>\n",
       "      <td>0.137757</td>\n",
       "      <td>-0.277009</td>\n",
       "      <td>0.147865</td>\n",
       "      <td>1.000000</td>\n",
       "      <td>-0.187790</td>\n",
       "      <td>-0.050989</td>\n",
       "      <td>...</td>\n",
       "      <td>0.135541</td>\n",
       "      <td>0.196826</td>\n",
       "      <td>0.105971</td>\n",
       "      <td>0.185042</td>\n",
       "      <td>-0.138455</td>\n",
       "      <td>-0.019762</td>\n",
       "      <td>0.317839</td>\n",
       "      <td>0.198461</td>\n",
       "      <td>-0.153487</td>\n",
       "      <td>-0.102026</td>\n",
       "    </tr>\n",
       "    <tr>\n",
       "      <th>wheelbase</th>\n",
       "      <td>0.129729</td>\n",
       "      <td>-0.531954</td>\n",
       "      <td>-0.308346</td>\n",
       "      <td>0.257611</td>\n",
       "      <td>-0.447357</td>\n",
       "      <td>0.401362</td>\n",
       "      <td>0.459745</td>\n",
       "      <td>-0.187790</td>\n",
       "      <td>1.000000</td>\n",
       "      <td>0.874587</td>\n",
       "      <td>...</td>\n",
       "      <td>-0.184596</td>\n",
       "      <td>0.569329</td>\n",
       "      <td>0.384601</td>\n",
       "      <td>0.488750</td>\n",
       "      <td>0.160959</td>\n",
       "      <td>0.249786</td>\n",
       "      <td>0.353294</td>\n",
       "      <td>-0.360469</td>\n",
       "      <td>-0.470414</td>\n",
       "      <td>-0.544082</td>\n",
       "    </tr>\n",
       "    <tr>\n",
       "      <th>carlength</th>\n",
       "      <td>0.170636</td>\n",
       "      <td>-0.357612</td>\n",
       "      <td>-0.212679</td>\n",
       "      <td>0.234539</td>\n",
       "      <td>-0.398568</td>\n",
       "      <td>0.334433</td>\n",
       "      <td>0.485649</td>\n",
       "      <td>-0.050989</td>\n",
       "      <td>0.874587</td>\n",
       "      <td>1.000000</td>\n",
       "      <td>...</td>\n",
       "      <td>-0.109585</td>\n",
       "      <td>0.683360</td>\n",
       "      <td>0.557810</td>\n",
       "      <td>0.606454</td>\n",
       "      <td>0.129533</td>\n",
       "      <td>0.158414</td>\n",
       "      <td>0.552623</td>\n",
       "      <td>-0.287242</td>\n",
       "      <td>-0.670909</td>\n",
       "      <td>-0.704662</td>\n",
       "    </tr>\n",
       "    <tr>\n",
       "      <th>carwidth</th>\n",
       "      <td>0.052387</td>\n",
       "      <td>-0.232919</td>\n",
       "      <td>-0.233880</td>\n",
       "      <td>0.300567</td>\n",
       "      <td>-0.207168</td>\n",
       "      <td>0.131710</td>\n",
       "      <td>0.470751</td>\n",
       "      <td>-0.051698</td>\n",
       "      <td>0.795144</td>\n",
       "      <td>0.841118</td>\n",
       "      <td>...</td>\n",
       "      <td>-0.194074</td>\n",
       "      <td>0.735433</td>\n",
       "      <td>0.521434</td>\n",
       "      <td>0.559150</td>\n",
       "      <td>0.182942</td>\n",
       "      <td>0.181129</td>\n",
       "      <td>0.640732</td>\n",
       "      <td>-0.220012</td>\n",
       "      <td>-0.642704</td>\n",
       "      <td>-0.677218</td>\n",
       "    </tr>\n",
       "    <tr>\n",
       "      <th>carheight</th>\n",
       "      <td>0.255960</td>\n",
       "      <td>-0.541038</td>\n",
       "      <td>-0.284631</td>\n",
       "      <td>0.087311</td>\n",
       "      <td>-0.552208</td>\n",
       "      <td>0.568534</td>\n",
       "      <td>-0.019719</td>\n",
       "      <td>-0.106234</td>\n",
       "      <td>0.589435</td>\n",
       "      <td>0.491029</td>\n",
       "      <td>...</td>\n",
       "      <td>-0.283845</td>\n",
       "      <td>0.067149</td>\n",
       "      <td>0.017046</td>\n",
       "      <td>0.171071</td>\n",
       "      <td>-0.055307</td>\n",
       "      <td>0.261214</td>\n",
       "      <td>-0.108802</td>\n",
       "      <td>-0.320411</td>\n",
       "      <td>-0.048640</td>\n",
       "      <td>-0.107358</td>\n",
       "    </tr>\n",
       "    <tr>\n",
       "      <th>curbweight</th>\n",
       "      <td>0.071962</td>\n",
       "      <td>-0.227691</td>\n",
       "      <td>-0.217275</td>\n",
       "      <td>0.324902</td>\n",
       "      <td>-0.197379</td>\n",
       "      <td>0.128467</td>\n",
       "      <td>0.575111</td>\n",
       "      <td>0.050468</td>\n",
       "      <td>0.776386</td>\n",
       "      <td>0.877728</td>\n",
       "      <td>...</td>\n",
       "      <td>-0.047127</td>\n",
       "      <td>0.850594</td>\n",
       "      <td>0.611642</td>\n",
       "      <td>0.648480</td>\n",
       "      <td>0.168790</td>\n",
       "      <td>0.151362</td>\n",
       "      <td>0.750739</td>\n",
       "      <td>-0.266243</td>\n",
       "      <td>-0.757414</td>\n",
       "      <td>-0.797465</td>\n",
       "    </tr>\n",
       "    <tr>\n",
       "      <th>enginetype</th>\n",
       "      <td>-0.075130</td>\n",
       "      <td>0.050372</td>\n",
       "      <td>0.082695</td>\n",
       "      <td>-0.102963</td>\n",
       "      <td>0.062431</td>\n",
       "      <td>-0.037024</td>\n",
       "      <td>-0.116823</td>\n",
       "      <td>0.114127</td>\n",
       "      <td>-0.135577</td>\n",
       "      <td>-0.113291</td>\n",
       "      <td>...</td>\n",
       "      <td>0.237390</td>\n",
       "      <td>0.040766</td>\n",
       "      <td>-0.091787</td>\n",
       "      <td>0.029355</td>\n",
       "      <td>-0.141918</td>\n",
       "      <td>-0.071873</td>\n",
       "      <td>0.010301</td>\n",
       "      <td>0.005599</td>\n",
       "      <td>-0.085004</td>\n",
       "      <td>-0.078456</td>\n",
       "    </tr>\n",
       "    <tr>\n",
       "      <th>cylindernumber</th>\n",
       "      <td>-0.040912</td>\n",
       "      <td>0.197762</td>\n",
       "      <td>0.110617</td>\n",
       "      <td>-0.133119</td>\n",
       "      <td>0.154322</td>\n",
       "      <td>-0.048408</td>\n",
       "      <td>0.223238</td>\n",
       "      <td>0.135541</td>\n",
       "      <td>-0.184596</td>\n",
       "      <td>-0.109585</td>\n",
       "      <td>...</td>\n",
       "      <td>1.000000</td>\n",
       "      <td>-0.085613</td>\n",
       "      <td>0.011970</td>\n",
       "      <td>-0.032844</td>\n",
       "      <td>-0.050088</td>\n",
       "      <td>-0.064701</td>\n",
       "      <td>0.115612</td>\n",
       "      <td>0.222731</td>\n",
       "      <td>-0.126422</td>\n",
       "      <td>-0.085897</td>\n",
       "    </tr>\n",
       "    <tr>\n",
       "      <th>enginesize</th>\n",
       "      <td>-0.033930</td>\n",
       "      <td>-0.105790</td>\n",
       "      <td>-0.069594</td>\n",
       "      <td>0.108217</td>\n",
       "      <td>-0.020742</td>\n",
       "      <td>-0.073352</td>\n",
       "      <td>0.524307</td>\n",
       "      <td>0.196826</td>\n",
       "      <td>0.569329</td>\n",
       "      <td>0.683360</td>\n",
       "      <td>...</td>\n",
       "      <td>-0.085613</td>\n",
       "      <td>1.000000</td>\n",
       "      <td>0.514070</td>\n",
       "      <td>0.583774</td>\n",
       "      <td>0.203129</td>\n",
       "      <td>0.028971</td>\n",
       "      <td>0.809769</td>\n",
       "      <td>-0.244660</td>\n",
       "      <td>-0.653658</td>\n",
       "      <td>-0.677470</td>\n",
       "    </tr>\n",
       "    <tr>\n",
       "      <th>fuelsystem</th>\n",
       "      <td>0.204898</td>\n",
       "      <td>0.091163</td>\n",
       "      <td>0.041529</td>\n",
       "      <td>0.288086</td>\n",
       "      <td>0.015519</td>\n",
       "      <td>-0.065079</td>\n",
       "      <td>0.424686</td>\n",
       "      <td>0.105971</td>\n",
       "      <td>0.384601</td>\n",
       "      <td>0.557810</td>\n",
       "      <td>...</td>\n",
       "      <td>0.011970</td>\n",
       "      <td>0.514070</td>\n",
       "      <td>1.000000</td>\n",
       "      <td>0.475599</td>\n",
       "      <td>0.088153</td>\n",
       "      <td>-0.100786</td>\n",
       "      <td>0.655638</td>\n",
       "      <td>0.014261</td>\n",
       "      <td>-0.671581</td>\n",
       "      <td>-0.645659</td>\n",
       "    </tr>\n",
       "    <tr>\n",
       "      <th>boreratio</th>\n",
       "      <td>0.260064</td>\n",
       "      <td>-0.130051</td>\n",
       "      <td>-0.054451</td>\n",
       "      <td>0.212614</td>\n",
       "      <td>-0.119258</td>\n",
       "      <td>0.010549</td>\n",
       "      <td>0.481827</td>\n",
       "      <td>0.185042</td>\n",
       "      <td>0.488750</td>\n",
       "      <td>0.606454</td>\n",
       "      <td>...</td>\n",
       "      <td>-0.032844</td>\n",
       "      <td>0.583774</td>\n",
       "      <td>0.475599</td>\n",
       "      <td>1.000000</td>\n",
       "      <td>-0.055909</td>\n",
       "      <td>0.005197</td>\n",
       "      <td>0.573677</td>\n",
       "      <td>-0.254976</td>\n",
       "      <td>-0.584532</td>\n",
       "      <td>-0.587012</td>\n",
       "    </tr>\n",
       "    <tr>\n",
       "      <th>stroke</th>\n",
       "      <td>-0.160824</td>\n",
       "      <td>-0.008735</td>\n",
       "      <td>-0.241829</td>\n",
       "      <td>0.222982</td>\n",
       "      <td>0.011082</td>\n",
       "      <td>-0.015325</td>\n",
       "      <td>0.071591</td>\n",
       "      <td>-0.138455</td>\n",
       "      <td>0.160959</td>\n",
       "      <td>0.129533</td>\n",
       "      <td>...</td>\n",
       "      <td>-0.050088</td>\n",
       "      <td>0.203129</td>\n",
       "      <td>0.088153</td>\n",
       "      <td>-0.055909</td>\n",
       "      <td>1.000000</td>\n",
       "      <td>0.186110</td>\n",
       "      <td>0.080940</td>\n",
       "      <td>-0.067964</td>\n",
       "      <td>-0.042145</td>\n",
       "      <td>-0.043931</td>\n",
       "    </tr>\n",
       "    <tr>\n",
       "      <th>compressionratio</th>\n",
       "      <td>0.150276</td>\n",
       "      <td>-0.178515</td>\n",
       "      <td>-0.984356</td>\n",
       "      <td>0.295541</td>\n",
       "      <td>-0.177888</td>\n",
       "      <td>0.136243</td>\n",
       "      <td>0.127479</td>\n",
       "      <td>-0.019762</td>\n",
       "      <td>0.249786</td>\n",
       "      <td>0.158414</td>\n",
       "      <td>...</td>\n",
       "      <td>-0.064701</td>\n",
       "      <td>0.028971</td>\n",
       "      <td>-0.100786</td>\n",
       "      <td>0.005197</td>\n",
       "      <td>0.186110</td>\n",
       "      <td>1.000000</td>\n",
       "      <td>-0.204326</td>\n",
       "      <td>-0.435741</td>\n",
       "      <td>0.324701</td>\n",
       "      <td>0.265201</td>\n",
       "    </tr>\n",
       "    <tr>\n",
       "      <th>horsepower</th>\n",
       "      <td>-0.015006</td>\n",
       "      <td>0.070873</td>\n",
       "      <td>0.163926</td>\n",
       "      <td>0.241685</td>\n",
       "      <td>0.126947</td>\n",
       "      <td>-0.153928</td>\n",
       "      <td>0.518686</td>\n",
       "      <td>0.317839</td>\n",
       "      <td>0.353294</td>\n",
       "      <td>0.552623</td>\n",
       "      <td>...</td>\n",
       "      <td>0.115612</td>\n",
       "      <td>0.809769</td>\n",
       "      <td>0.655638</td>\n",
       "      <td>0.573677</td>\n",
       "      <td>0.080940</td>\n",
       "      <td>-0.204326</td>\n",
       "      <td>1.000000</td>\n",
       "      <td>0.131073</td>\n",
       "      <td>-0.801456</td>\n",
       "      <td>-0.770544</td>\n",
       "    </tr>\n",
       "    <tr>\n",
       "      <th>peakrpm</th>\n",
       "      <td>-0.203789</td>\n",
       "      <td>0.273606</td>\n",
       "      <td>0.476883</td>\n",
       "      <td>-0.183383</td>\n",
       "      <td>0.247668</td>\n",
       "      <td>-0.109643</td>\n",
       "      <td>-0.039417</td>\n",
       "      <td>0.198461</td>\n",
       "      <td>-0.360469</td>\n",
       "      <td>-0.287242</td>\n",
       "      <td>...</td>\n",
       "      <td>0.222731</td>\n",
       "      <td>-0.244660</td>\n",
       "      <td>0.014261</td>\n",
       "      <td>-0.254976</td>\n",
       "      <td>-0.067964</td>\n",
       "      <td>-0.435741</td>\n",
       "      <td>0.131073</td>\n",
       "      <td>1.000000</td>\n",
       "      <td>-0.113544</td>\n",
       "      <td>-0.054275</td>\n",
       "    </tr>\n",
       "    <tr>\n",
       "      <th>citympg</th>\n",
       "      <td>0.015940</td>\n",
       "      <td>-0.035823</td>\n",
       "      <td>-0.255963</td>\n",
       "      <td>-0.202362</td>\n",
       "      <td>0.012417</td>\n",
       "      <td>0.031697</td>\n",
       "      <td>-0.449581</td>\n",
       "      <td>-0.153487</td>\n",
       "      <td>-0.470414</td>\n",
       "      <td>-0.670909</td>\n",
       "      <td>...</td>\n",
       "      <td>-0.126422</td>\n",
       "      <td>-0.653658</td>\n",
       "      <td>-0.671581</td>\n",
       "      <td>-0.584532</td>\n",
       "      <td>-0.042145</td>\n",
       "      <td>0.324701</td>\n",
       "      <td>-0.801456</td>\n",
       "      <td>-0.113544</td>\n",
       "      <td>1.000000</td>\n",
       "      <td>0.971337</td>\n",
       "    </tr>\n",
       "    <tr>\n",
       "      <th>highwaympg</th>\n",
       "      <td>0.011255</td>\n",
       "      <td>0.034606</td>\n",
       "      <td>-0.191392</td>\n",
       "      <td>-0.254416</td>\n",
       "      <td>0.036330</td>\n",
       "      <td>-0.007170</td>\n",
       "      <td>-0.452220</td>\n",
       "      <td>-0.102026</td>\n",
       "      <td>-0.544082</td>\n",
       "      <td>-0.704662</td>\n",
       "      <td>...</td>\n",
       "      <td>-0.085897</td>\n",
       "      <td>-0.677470</td>\n",
       "      <td>-0.645659</td>\n",
       "      <td>-0.587012</td>\n",
       "      <td>-0.043931</td>\n",
       "      <td>0.265201</td>\n",
       "      <td>-0.770544</td>\n",
       "      <td>-0.054275</td>\n",
       "      <td>0.971337</td>\n",
       "      <td>1.000000</td>\n",
       "    </tr>\n",
       "  </tbody>\n",
       "</table>\n",
       "<p>24 rows × 24 columns</p>\n",
       "</div>"
      ],
      "text/plain": [
       "                    car_ID  symboling  fueltype  aspiration  doornumber  \\\n",
       "car_ID            1.000000  -0.151621 -0.125568    0.067729   -0.190352   \n",
       "symboling        -0.151621   1.000000  0.194311   -0.059866    0.664073   \n",
       "fueltype         -0.125568   0.194311  1.000000   -0.401397    0.191491   \n",
       "aspiration        0.067729  -0.059866 -0.401397    1.000000   -0.031792   \n",
       "doornumber       -0.190352   0.664073  0.191491   -0.031792    1.000000   \n",
       "carbody           0.098303  -0.596135 -0.147853    0.063028   -0.680358   \n",
       "drivewheel        0.051406  -0.041671 -0.132257    0.066465    0.098954   \n",
       "enginelocation    0.051483   0.212471  0.040070   -0.057191    0.137757   \n",
       "wheelbase         0.129729  -0.531954 -0.308346    0.257611   -0.447357   \n",
       "carlength         0.170636  -0.357612 -0.212679    0.234539   -0.398568   \n",
       "carwidth          0.052387  -0.232919 -0.233880    0.300567   -0.207168   \n",
       "carheight         0.255960  -0.541038 -0.284631    0.087311   -0.552208   \n",
       "curbweight        0.071962  -0.227691 -0.217275    0.324902   -0.197379   \n",
       "enginetype       -0.075130   0.050372  0.082695   -0.102963    0.062431   \n",
       "cylindernumber   -0.040912   0.197762  0.110617   -0.133119    0.154322   \n",
       "enginesize       -0.033930  -0.105790 -0.069594    0.108217   -0.020742   \n",
       "fuelsystem        0.204898   0.091163  0.041529    0.288086    0.015519   \n",
       "boreratio         0.260064  -0.130051 -0.054451    0.212614   -0.119258   \n",
       "stroke           -0.160824  -0.008735 -0.241829    0.222982    0.011082   \n",
       "compressionratio  0.150276  -0.178515 -0.984356    0.295541   -0.177888   \n",
       "horsepower       -0.015006   0.070873  0.163926    0.241685    0.126947   \n",
       "peakrpm          -0.203789   0.273606  0.476883   -0.183383    0.247668   \n",
       "citympg           0.015940  -0.035823 -0.255963   -0.202362    0.012417   \n",
       "highwaympg        0.011255   0.034606 -0.191392   -0.254416    0.036330   \n",
       "\n",
       "                   carbody  drivewheel  enginelocation  wheelbase  carlength  \\\n",
       "car_ID            0.098303    0.051406        0.051483   0.129729   0.170636   \n",
       "symboling        -0.596135   -0.041671        0.212471  -0.531954  -0.357612   \n",
       "fueltype         -0.147853   -0.132257        0.040070  -0.308346  -0.212679   \n",
       "aspiration        0.063028    0.066465       -0.057191   0.257611   0.234539   \n",
       "doornumber       -0.680358    0.098954        0.137757  -0.447357  -0.398568   \n",
       "carbody           1.000000   -0.155745       -0.277009   0.401362   0.334433   \n",
       "drivewheel       -0.155745    1.000000        0.147865   0.459745   0.485649   \n",
       "enginelocation   -0.277009    0.147865        1.000000  -0.187790  -0.050989   \n",
       "wheelbase         0.401362    0.459745       -0.187790   1.000000   0.874587   \n",
       "carlength         0.334433    0.485649       -0.050989   0.874587   1.000000   \n",
       "carwidth          0.131710    0.470751       -0.051698   0.795144   0.841118   \n",
       "carheight         0.568534   -0.019719       -0.106234   0.589435   0.491029   \n",
       "curbweight        0.128467    0.575111        0.050468   0.776386   0.877728   \n",
       "enginetype       -0.037024   -0.116823        0.114127  -0.135577  -0.113291   \n",
       "cylindernumber   -0.048408    0.223238        0.135541  -0.184596  -0.109585   \n",
       "enginesize       -0.073352    0.524307        0.196826   0.569329   0.683360   \n",
       "fuelsystem       -0.065079    0.424686        0.105971   0.384601   0.557810   \n",
       "boreratio         0.010549    0.481827        0.185042   0.488750   0.606454   \n",
       "stroke           -0.015325    0.071591       -0.138455   0.160959   0.129533   \n",
       "compressionratio  0.136243    0.127479       -0.019762   0.249786   0.158414   \n",
       "horsepower       -0.153928    0.518686        0.317839   0.353294   0.552623   \n",
       "peakrpm          -0.109643   -0.039417        0.198461  -0.360469  -0.287242   \n",
       "citympg           0.031697   -0.449581       -0.153487  -0.470414  -0.670909   \n",
       "highwaympg       -0.007170   -0.452220       -0.102026  -0.544082  -0.704662   \n",
       "\n",
       "                  ...  cylindernumber  enginesize  fuelsystem  boreratio  \\\n",
       "car_ID            ...       -0.040912   -0.033930    0.204898   0.260064   \n",
       "symboling         ...        0.197762   -0.105790    0.091163  -0.130051   \n",
       "fueltype          ...        0.110617   -0.069594    0.041529  -0.054451   \n",
       "aspiration        ...       -0.133119    0.108217    0.288086   0.212614   \n",
       "doornumber        ...        0.154322   -0.020742    0.015519  -0.119258   \n",
       "carbody           ...       -0.048408   -0.073352   -0.065079   0.010549   \n",
       "drivewheel        ...        0.223238    0.524307    0.424686   0.481827   \n",
       "enginelocation    ...        0.135541    0.196826    0.105971   0.185042   \n",
       "wheelbase         ...       -0.184596    0.569329    0.384601   0.488750   \n",
       "carlength         ...       -0.109585    0.683360    0.557810   0.606454   \n",
       "carwidth          ...       -0.194074    0.735433    0.521434   0.559150   \n",
       "carheight         ...       -0.283845    0.067149    0.017046   0.171071   \n",
       "curbweight        ...       -0.047127    0.850594    0.611642   0.648480   \n",
       "enginetype        ...        0.237390    0.040766   -0.091787   0.029355   \n",
       "cylindernumber    ...        1.000000   -0.085613    0.011970  -0.032844   \n",
       "enginesize        ...       -0.085613    1.000000    0.514070   0.583774   \n",
       "fuelsystem        ...        0.011970    0.514070    1.000000   0.475599   \n",
       "boreratio         ...       -0.032844    0.583774    0.475599   1.000000   \n",
       "stroke            ...       -0.050088    0.203129    0.088153  -0.055909   \n",
       "compressionratio  ...       -0.064701    0.028971   -0.100786   0.005197   \n",
       "horsepower        ...        0.115612    0.809769    0.655638   0.573677   \n",
       "peakrpm           ...        0.222731   -0.244660    0.014261  -0.254976   \n",
       "citympg           ...       -0.126422   -0.653658   -0.671581  -0.584532   \n",
       "highwaympg        ...       -0.085897   -0.677470   -0.645659  -0.587012   \n",
       "\n",
       "                    stroke  compressionratio  horsepower   peakrpm   citympg  \\\n",
       "car_ID           -0.160824          0.150276   -0.015006 -0.203789  0.015940   \n",
       "symboling        -0.008735         -0.178515    0.070873  0.273606 -0.035823   \n",
       "fueltype         -0.241829         -0.984356    0.163926  0.476883 -0.255963   \n",
       "aspiration        0.222982          0.295541    0.241685 -0.183383 -0.202362   \n",
       "doornumber        0.011082         -0.177888    0.126947  0.247668  0.012417   \n",
       "carbody          -0.015325          0.136243   -0.153928 -0.109643  0.031697   \n",
       "drivewheel        0.071591          0.127479    0.518686 -0.039417 -0.449581   \n",
       "enginelocation   -0.138455         -0.019762    0.317839  0.198461 -0.153487   \n",
       "wheelbase         0.160959          0.249786    0.353294 -0.360469 -0.470414   \n",
       "carlength         0.129533          0.158414    0.552623 -0.287242 -0.670909   \n",
       "carwidth          0.182942          0.181129    0.640732 -0.220012 -0.642704   \n",
       "carheight        -0.055307          0.261214   -0.108802 -0.320411 -0.048640   \n",
       "curbweight        0.168790          0.151362    0.750739 -0.266243 -0.757414   \n",
       "enginetype       -0.141918         -0.071873    0.010301  0.005599 -0.085004   \n",
       "cylindernumber   -0.050088         -0.064701    0.115612  0.222731 -0.126422   \n",
       "enginesize        0.203129          0.028971    0.809769 -0.244660 -0.653658   \n",
       "fuelsystem        0.088153         -0.100786    0.655638  0.014261 -0.671581   \n",
       "boreratio        -0.055909          0.005197    0.573677 -0.254976 -0.584532   \n",
       "stroke            1.000000          0.186110    0.080940 -0.067964 -0.042145   \n",
       "compressionratio  0.186110          1.000000   -0.204326 -0.435741  0.324701   \n",
       "horsepower        0.080940         -0.204326    1.000000  0.131073 -0.801456   \n",
       "peakrpm          -0.067964         -0.435741    0.131073  1.000000 -0.113544   \n",
       "citympg          -0.042145          0.324701   -0.801456 -0.113544  1.000000   \n",
       "highwaympg       -0.043931          0.265201   -0.770544 -0.054275  0.971337   \n",
       "\n",
       "                  highwaympg  \n",
       "car_ID              0.011255  \n",
       "symboling           0.034606  \n",
       "fueltype           -0.191392  \n",
       "aspiration         -0.254416  \n",
       "doornumber          0.036330  \n",
       "carbody            -0.007170  \n",
       "drivewheel         -0.452220  \n",
       "enginelocation     -0.102026  \n",
       "wheelbase          -0.544082  \n",
       "carlength          -0.704662  \n",
       "carwidth           -0.677218  \n",
       "carheight          -0.107358  \n",
       "curbweight         -0.797465  \n",
       "enginetype         -0.078456  \n",
       "cylindernumber     -0.085897  \n",
       "enginesize         -0.677470  \n",
       "fuelsystem         -0.645659  \n",
       "boreratio          -0.587012  \n",
       "stroke             -0.043931  \n",
       "compressionratio    0.265201  \n",
       "horsepower         -0.770544  \n",
       "peakrpm            -0.054275  \n",
       "citympg             0.971337  \n",
       "highwaympg          1.000000  \n",
       "\n",
       "[24 rows x 24 columns]"
      ]
     },
     "execution_count": 13,
     "metadata": {},
     "output_type": "execute_result"
    }
   ],
   "source": [
    "X.corr()"
   ]
  },
  {
   "cell_type": "code",
   "execution_count": 14,
   "metadata": {
    "ExecuteTime": {
     "end_time": "2022-08-26T09:35:30.522807Z",
     "start_time": "2022-08-26T09:35:30.484030Z"
    },
    "execution": {
     "iopub.execute_input": "2021-12-03T03:24:46.862336Z",
     "iopub.status.busy": "2021-12-03T03:24:46.862098Z",
     "iopub.status.idle": "2021-12-03T03:24:46.885869Z",
     "shell.execute_reply": "2021-12-03T03:24:46.884876Z",
     "shell.execute_reply.started": "2021-12-03T03:24:46.862308Z"
    }
   },
   "outputs": [
    {
     "data": {
      "text/plain": [
       "([['symboling', 'doornumber'],\n",
       "  ['doornumber', 'symboling'],\n",
       "  ['carbody', 'carheight'],\n",
       "  ['drivewheel', 'curbweight'],\n",
       "  ['drivewheel', 'enginesize'],\n",
       "  ['drivewheel', 'horsepower'],\n",
       "  ['wheelbase', 'carlength'],\n",
       "  ['wheelbase', 'carwidth'],\n",
       "  ['wheelbase', 'carheight'],\n",
       "  ['wheelbase', 'curbweight'],\n",
       "  ['wheelbase', 'enginesize'],\n",
       "  ['carlength', 'wheelbase'],\n",
       "  ['carlength', 'carwidth'],\n",
       "  ['carlength', 'curbweight'],\n",
       "  ['carlength', 'enginesize'],\n",
       "  ['carlength', 'fuelsystem'],\n",
       "  ['carlength', 'boreratio'],\n",
       "  ['carlength', 'horsepower'],\n",
       "  ['carwidth', 'wheelbase'],\n",
       "  ['carwidth', 'carlength'],\n",
       "  ['carwidth', 'curbweight'],\n",
       "  ['carwidth', 'enginesize'],\n",
       "  ['carwidth', 'fuelsystem'],\n",
       "  ['carwidth', 'boreratio'],\n",
       "  ['carwidth', 'horsepower'],\n",
       "  ['carheight', 'carbody'],\n",
       "  ['carheight', 'wheelbase'],\n",
       "  ['curbweight', 'drivewheel'],\n",
       "  ['curbweight', 'wheelbase'],\n",
       "  ['curbweight', 'carlength'],\n",
       "  ['curbweight', 'carwidth'],\n",
       "  ['curbweight', 'enginesize'],\n",
       "  ['curbweight', 'fuelsystem'],\n",
       "  ['curbweight', 'boreratio'],\n",
       "  ['curbweight', 'horsepower'],\n",
       "  ['enginesize', 'drivewheel'],\n",
       "  ['enginesize', 'wheelbase'],\n",
       "  ['enginesize', 'carlength'],\n",
       "  ['enginesize', 'carwidth'],\n",
       "  ['enginesize', 'curbweight'],\n",
       "  ['enginesize', 'fuelsystem'],\n",
       "  ['enginesize', 'boreratio'],\n",
       "  ['enginesize', 'horsepower'],\n",
       "  ['fuelsystem', 'carlength'],\n",
       "  ['fuelsystem', 'carwidth'],\n",
       "  ['fuelsystem', 'curbweight'],\n",
       "  ['fuelsystem', 'enginesize'],\n",
       "  ['fuelsystem', 'horsepower'],\n",
       "  ['boreratio', 'carlength'],\n",
       "  ['boreratio', 'carwidth'],\n",
       "  ['boreratio', 'curbweight'],\n",
       "  ['boreratio', 'enginesize'],\n",
       "  ['boreratio', 'horsepower'],\n",
       "  ['horsepower', 'drivewheel'],\n",
       "  ['horsepower', 'carlength'],\n",
       "  ['horsepower', 'carwidth'],\n",
       "  ['horsepower', 'curbweight'],\n",
       "  ['horsepower', 'enginesize'],\n",
       "  ['horsepower', 'fuelsystem'],\n",
       "  ['horsepower', 'boreratio'],\n",
       "  ['citympg', 'highwaympg'],\n",
       "  ['highwaympg', 'citympg']],\n",
       " 62)"
      ]
     },
     "execution_count": 14,
     "metadata": {},
     "output_type": "execute_result"
    }
   ],
   "source": [
    "# pair of independent variables with correlation greater than 0.5\n",
    "k = X.corr()\n",
    "z = [[str(i), str(j)] for i in k.columns for j in k.columns\n",
    "     if (k.loc[i, j] > abs(0.5)) & (i != j)]\n",
    "z, len(z)"
   ]
  },
  {
   "cell_type": "markdown",
   "metadata": {},
   "source": [
    "## III.3 Calculating variance inflation factor"
   ]
  },
  {
   "cell_type": "code",
   "execution_count": 15,
   "metadata": {
    "ExecuteTime": {
     "end_time": "2022-08-26T09:35:44.687390Z",
     "start_time": "2022-08-26T09:35:44.467327Z"
    },
    "execution": {
     "iopub.execute_input": "2021-12-03T03:24:46.888013Z",
     "iopub.status.busy": "2021-12-03T03:24:46.88767Z",
     "iopub.status.idle": "2021-12-03T03:24:46.965325Z",
     "shell.execute_reply": "2021-12-03T03:24:46.964414Z",
     "shell.execute_reply.started": "2021-12-03T03:24:46.887967Z"
    }
   },
   "outputs": [
    {
     "name": "stderr",
     "output_type": "stream",
     "text": [
      "/Library/Frameworks/Python.framework/Versions/3.10/lib/python3.10/site-packages/statsmodels/compat/pandas.py:65: FutureWarning: pandas.Int64Index is deprecated and will be removed from pandas in a future version. Use pandas.Index with the appropriate dtype instead.\n",
      "  from pandas import Int64Index as NumericIndex\n"
     ]
    },
    {
     "data": {
      "text/plain": [
       "car_ID                1.562819\n",
       "symboling             2.835021\n",
       "fueltype            106.286348\n",
       "aspiration            3.335670\n",
       "doornumber            2.841078\n",
       "carbody               2.806209\n",
       "drivewheel            2.566854\n",
       "enginelocation        1.749153\n",
       "wheelbase            10.892441\n",
       "carlength            11.858523\n",
       "carwidth              8.968745\n",
       "carheight             3.105226\n",
       "curbweight           19.079147\n",
       "enginetype            1.612547\n",
       "cylindernumber        2.254520\n",
       "enginesize           14.025004\n",
       "fuelsystem            2.653483\n",
       "boreratio             2.458785\n",
       "stroke                1.585589\n",
       "compressionratio     97.796518\n",
       "horsepower           15.378773\n",
       "peakrpm               2.757842\n",
       "citympg              32.916300\n",
       "highwaympg           28.323363\n",
       "dtype: float64"
      ]
     },
     "execution_count": 15,
     "metadata": {},
     "output_type": "execute_result"
    }
   ],
   "source": [
    "# importing varience inflation factor from the stats model\n",
    "from statsmodels.stats.outliers_influence import variance_inflation_factor\n",
    "\n",
    "vif_data = X\n",
    "\n",
    "## calculating VIF for every column\n",
    "VIF = pd.Series([\n",
    "    variance_inflation_factor(vif_data.values, i)\n",
    "    for i in range(vif_data.shape[1])\n",
    "],\n",
    "                index=vif_data.columns)\n",
    "VIF"
   ]
  },
  {
   "cell_type": "markdown",
   "metadata": {},
   "source": [
    "## III.4 Treating Multicollinearity"
   ]
  },
  {
   "cell_type": "code",
   "execution_count": 16,
   "metadata": {
    "ExecuteTime": {
     "end_time": "2022-08-26T09:36:11.554559Z",
     "start_time": "2022-08-26T09:36:11.526821Z"
    },
    "execution": {
     "iopub.execute_input": "2021-12-03T03:24:46.966845Z",
     "iopub.status.busy": "2021-12-03T03:24:46.966604Z",
     "iopub.status.idle": "2021-12-03T03:24:46.974007Z",
     "shell.execute_reply": "2021-12-03T03:24:46.973304Z",
     "shell.execute_reply.started": "2021-12-03T03:24:46.966815Z"
    }
   },
   "outputs": [],
   "source": [
    "def MC_remover(data):\n",
    "    vif = pd.Series([\n",
    "        variance_inflation_factor(data.values, i) for i in range(data.shape[1])\n",
    "    ],\n",
    "                    index=data.columns)\n",
    "    \n",
    "    if vif.max() > 5:\n",
    "        print(vif[vif == vif.max()].index[0], 'has been removed')\n",
    "        data = data.drop(columns=[vif[vif == vif.max()].index[0]])\n",
    "        return data\n",
    "    \n",
    "    else:\n",
    "        print(\"No multicollinearity present anymore\")\n",
    "        return data"
   ]
  },
  {
   "cell_type": "code",
   "execution_count": 17,
   "metadata": {
    "ExecuteTime": {
     "end_time": "2022-08-26T09:36:12.313465Z",
     "start_time": "2022-08-26T09:36:12.169788Z"
    },
    "execution": {
     "iopub.execute_input": "2021-12-03T03:24:46.975969Z",
     "iopub.status.busy": "2021-12-03T03:24:46.975267Z",
     "iopub.status.idle": "2021-12-03T03:24:47.215688Z",
     "shell.execute_reply": "2021-12-03T03:24:47.21487Z",
     "shell.execute_reply.started": "2021-12-03T03:24:46.975933Z"
    }
   },
   "outputs": [
    {
     "name": "stdout",
     "output_type": "stream",
     "text": [
      "fueltype has been removed\n",
      "citympg has been removed\n",
      "curbweight has been removed\n",
      "horsepower has been removed\n",
      "carlength has been removed\n",
      "wheelbase has been removed\n",
      "No multicollinearity present anymore\n",
      "No multicollinearity present anymore\n",
      "No multicollinearity present anymore\n",
      "No multicollinearity present anymore\n"
     ]
    },
    {
     "data": {
      "text/html": [
       "<div>\n",
       "<style scoped>\n",
       "    .dataframe tbody tr th:only-of-type {\n",
       "        vertical-align: middle;\n",
       "    }\n",
       "\n",
       "    .dataframe tbody tr th {\n",
       "        vertical-align: top;\n",
       "    }\n",
       "\n",
       "    .dataframe thead th {\n",
       "        text-align: right;\n",
       "    }\n",
       "</style>\n",
       "<table border=\"1\" class=\"dataframe\">\n",
       "  <thead>\n",
       "    <tr style=\"text-align: right;\">\n",
       "      <th></th>\n",
       "      <th>car_ID</th>\n",
       "      <th>symboling</th>\n",
       "      <th>aspiration</th>\n",
       "      <th>doornumber</th>\n",
       "      <th>carbody</th>\n",
       "      <th>drivewheel</th>\n",
       "      <th>enginelocation</th>\n",
       "      <th>carwidth</th>\n",
       "      <th>carheight</th>\n",
       "      <th>enginetype</th>\n",
       "      <th>cylindernumber</th>\n",
       "      <th>enginesize</th>\n",
       "      <th>fuelsystem</th>\n",
       "      <th>boreratio</th>\n",
       "      <th>stroke</th>\n",
       "      <th>compressionratio</th>\n",
       "      <th>peakrpm</th>\n",
       "      <th>highwaympg</th>\n",
       "    </tr>\n",
       "  </thead>\n",
       "  <tbody>\n",
       "    <tr>\n",
       "      <th>0</th>\n",
       "      <td>-1.723622</td>\n",
       "      <td>1.743470</td>\n",
       "      <td>-0.469295</td>\n",
       "      <td>1.130388</td>\n",
       "      <td>-3.050975</td>\n",
       "      <td>1.213330</td>\n",
       "      <td>-0.121867</td>\n",
       "      <td>-0.844782</td>\n",
       "      <td>-2.020417</td>\n",
       "      <td>-2.865105</td>\n",
       "      <td>-0.147475</td>\n",
       "      <td>0.074449</td>\n",
       "      <td>0.869568</td>\n",
       "      <td>0.519071</td>\n",
       "      <td>-1.839377</td>\n",
       "      <td>-0.288349</td>\n",
       "      <td>-0.262960</td>\n",
       "      <td>-0.546059</td>\n",
       "    </tr>\n",
       "    <tr>\n",
       "      <th>1</th>\n",
       "      <td>-1.706724</td>\n",
       "      <td>1.743470</td>\n",
       "      <td>-0.469295</td>\n",
       "      <td>1.130388</td>\n",
       "      <td>-3.050975</td>\n",
       "      <td>1.213330</td>\n",
       "      <td>-0.121867</td>\n",
       "      <td>-0.844782</td>\n",
       "      <td>-2.020417</td>\n",
       "      <td>-2.865105</td>\n",
       "      <td>-0.147475</td>\n",
       "      <td>0.074449</td>\n",
       "      <td>0.869568</td>\n",
       "      <td>0.519071</td>\n",
       "      <td>-1.839377</td>\n",
       "      <td>-0.288349</td>\n",
       "      <td>-0.262960</td>\n",
       "      <td>-0.546059</td>\n",
       "    </tr>\n",
       "    <tr>\n",
       "      <th>2</th>\n",
       "      <td>-1.689826</td>\n",
       "      <td>0.133509</td>\n",
       "      <td>-0.469295</td>\n",
       "      <td>1.130388</td>\n",
       "      <td>-0.717207</td>\n",
       "      <td>1.213330</td>\n",
       "      <td>-0.121867</td>\n",
       "      <td>-0.190566</td>\n",
       "      <td>-0.543527</td>\n",
       "      <td>1.886890</td>\n",
       "      <td>1.112210</td>\n",
       "      <td>0.604046</td>\n",
       "      <td>0.869568</td>\n",
       "      <td>-2.404880</td>\n",
       "      <td>0.685946</td>\n",
       "      <td>-0.288349</td>\n",
       "      <td>-0.262960</td>\n",
       "      <td>-0.691627</td>\n",
       "    </tr>\n",
       "    <tr>\n",
       "      <th>3</th>\n",
       "      <td>-1.672928</td>\n",
       "      <td>0.938490</td>\n",
       "      <td>-0.469295</td>\n",
       "      <td>-0.884652</td>\n",
       "      <td>0.449677</td>\n",
       "      <td>-0.589081</td>\n",
       "      <td>-0.121867</td>\n",
       "      <td>0.136542</td>\n",
       "      <td>0.235942</td>\n",
       "      <td>-0.013908</td>\n",
       "      <td>-0.147475</td>\n",
       "      <td>-0.431076</td>\n",
       "      <td>0.869568</td>\n",
       "      <td>-0.517266</td>\n",
       "      <td>0.462183</td>\n",
       "      <td>-0.035973</td>\n",
       "      <td>0.787855</td>\n",
       "      <td>-0.109354</td>\n",
       "    </tr>\n",
       "    <tr>\n",
       "      <th>4</th>\n",
       "      <td>-1.656029</td>\n",
       "      <td>0.938490</td>\n",
       "      <td>-0.469295</td>\n",
       "      <td>-0.884652</td>\n",
       "      <td>0.449677</td>\n",
       "      <td>-2.391492</td>\n",
       "      <td>-0.121867</td>\n",
       "      <td>0.230001</td>\n",
       "      <td>0.235942</td>\n",
       "      <td>-0.013908</td>\n",
       "      <td>-1.407161</td>\n",
       "      <td>0.218885</td>\n",
       "      <td>0.869568</td>\n",
       "      <td>-0.517266</td>\n",
       "      <td>0.462183</td>\n",
       "      <td>-0.540725</td>\n",
       "      <td>0.787855</td>\n",
       "      <td>-1.273900</td>\n",
       "    </tr>\n",
       "  </tbody>\n",
       "</table>\n",
       "</div>"
      ],
      "text/plain": [
       "     car_ID  symboling  aspiration  doornumber   carbody  drivewheel  \\\n",
       "0 -1.723622   1.743470   -0.469295    1.130388 -3.050975    1.213330   \n",
       "1 -1.706724   1.743470   -0.469295    1.130388 -3.050975    1.213330   \n",
       "2 -1.689826   0.133509   -0.469295    1.130388 -0.717207    1.213330   \n",
       "3 -1.672928   0.938490   -0.469295   -0.884652  0.449677   -0.589081   \n",
       "4 -1.656029   0.938490   -0.469295   -0.884652  0.449677   -2.391492   \n",
       "\n",
       "   enginelocation  carwidth  carheight  enginetype  cylindernumber  \\\n",
       "0       -0.121867 -0.844782  -2.020417   -2.865105       -0.147475   \n",
       "1       -0.121867 -0.844782  -2.020417   -2.865105       -0.147475   \n",
       "2       -0.121867 -0.190566  -0.543527    1.886890        1.112210   \n",
       "3       -0.121867  0.136542   0.235942   -0.013908       -0.147475   \n",
       "4       -0.121867  0.230001   0.235942   -0.013908       -1.407161   \n",
       "\n",
       "   enginesize  fuelsystem  boreratio    stroke  compressionratio   peakrpm  \\\n",
       "0    0.074449    0.869568   0.519071 -1.839377         -0.288349 -0.262960   \n",
       "1    0.074449    0.869568   0.519071 -1.839377         -0.288349 -0.262960   \n",
       "2    0.604046    0.869568  -2.404880  0.685946         -0.288349 -0.262960   \n",
       "3   -0.431076    0.869568  -0.517266  0.462183         -0.035973  0.787855   \n",
       "4    0.218885    0.869568  -0.517266  0.462183         -0.540725  0.787855   \n",
       "\n",
       "   highwaympg  \n",
       "0   -0.546059  \n",
       "1   -0.546059  \n",
       "2   -0.691627  \n",
       "3   -0.109354  \n",
       "4   -1.273900  "
      ]
     },
     "execution_count": 17,
     "metadata": {},
     "output_type": "execute_result"
    }
   ],
   "source": [
    "for i in range(10):\n",
    "    vif_data = MC_remover(vif_data)\n",
    "    \n",
    "vif_data.head()"
   ]
  },
  {
   "cell_type": "code",
   "execution_count": 18,
   "metadata": {
    "ExecuteTime": {
     "end_time": "2022-08-26T09:37:02.302013Z",
     "start_time": "2022-08-26T09:37:02.261680Z"
    },
    "execution": {
     "iopub.execute_input": "2021-12-03T03:24:47.217335Z",
     "iopub.status.busy": "2021-12-03T03:24:47.217008Z",
     "iopub.status.idle": "2021-12-03T03:24:47.242457Z",
     "shell.execute_reply": "2021-12-03T03:24:47.24186Z",
     "shell.execute_reply.started": "2021-12-03T03:24:47.217296Z"
    }
   },
   "outputs": [
    {
     "data": {
      "text/plain": [
       "(car_ID              1.389711\n",
       " symboling           2.364823\n",
       " aspiration          1.662257\n",
       " doornumber          2.614667\n",
       " carbody             2.638454\n",
       " drivewheel          2.191325\n",
       " enginelocation      1.570782\n",
       " carwidth            4.207303\n",
       " carheight           2.282831\n",
       " enginetype          1.268288\n",
       " cylindernumber      1.677003\n",
       " enginesize          4.363803\n",
       " fuelsystem          2.244869\n",
       " boreratio           2.319847\n",
       " stroke              1.291581\n",
       " compressionratio    2.251862\n",
       " peakrpm             1.973733\n",
       " highwaympg          4.845446\n",
       " dtype: float64,\n",
       " 18)"
      ]
     },
     "execution_count": 18,
     "metadata": {},
     "output_type": "execute_result"
    }
   ],
   "source": [
    "# calculating VIF for remaining columns\n",
    "\n",
    "VIF = pd.Series([\n",
    "    variance_inflation_factor(vif_data.values, i)\n",
    "    for i in range(vif_data.shape[1])\n",
    "],\n",
    "                index=vif_data.columns)\n",
    "\n",
    "VIF, len(vif_data.columns)"
   ]
  },
  {
   "cell_type": "markdown",
   "metadata": {},
   "source": [
    "## III.5 Feature Selection"
   ]
  },
  {
   "cell_type": "code",
   "execution_count": 19,
   "metadata": {
    "ExecuteTime": {
     "end_time": "2022-08-26T09:37:13.116814Z",
     "start_time": "2022-08-26T09:37:13.053990Z"
    },
    "execution": {
     "iopub.execute_input": "2021-12-03T03:24:47.244065Z",
     "iopub.status.busy": "2021-12-03T03:24:47.24347Z",
     "iopub.status.idle": "2021-12-03T03:24:47.255929Z",
     "shell.execute_reply": "2021-12-03T03:24:47.255298Z",
     "shell.execute_reply.started": "2021-12-03T03:24:47.244024Z"
    }
   },
   "outputs": [],
   "source": [
    "from sklearn.model_selection import train_test_split\n",
    "\n",
    "X = vif_data\n",
    "Y = df['price']\n",
    "X_train, X_test, Y_train, Y_test = train_test_split(X,\n",
    "                                                    Y,\n",
    "                                                    test_size=0.3,\n",
    "                                                    random_state=44)"
   ]
  },
  {
   "cell_type": "markdown",
   "metadata": {},
   "source": [
    "# IV. Modelling\n",
    "## IV.1 Linear regression"
   ]
  },
  {
   "cell_type": "code",
   "execution_count": 31,
   "metadata": {
    "ExecuteTime": {
     "end_time": "2022-08-26T09:38:08.758057Z",
     "start_time": "2022-08-26T09:38:08.729362Z"
    },
    "execution": {
     "iopub.execute_input": "2021-12-03T03:24:47.257628Z",
     "iopub.status.busy": "2021-12-03T03:24:47.257211Z",
     "iopub.status.idle": "2021-12-03T03:24:47.290418Z",
     "shell.execute_reply": "2021-12-03T03:24:47.289781Z",
     "shell.execute_reply.started": "2021-12-03T03:24:47.257579Z"
    }
   },
   "outputs": [
    {
     "data": {
      "text/plain": [
       "LinearRegression()"
      ]
     },
     "execution_count": 31,
     "metadata": {},
     "output_type": "execute_result"
    }
   ],
   "source": [
    "from sklearn.linear_model import LinearRegression\n",
    "\n",
    "reg = LinearRegression()\n",
    "reg.fit(X_train, Y_train)\n",
    "pred = reg.predict(X_test)\n",
    "\n",
    "reg.score(X_test, Y_test)"
   ]
  },
  {
   "cell_type": "code",
   "execution_count": 34,
   "metadata": {
    "ExecuteTime": {
     "end_time": "2022-08-26T09:38:09.486318Z",
     "start_time": "2022-08-26T09:38:09.307480Z"
    },
    "execution": {
     "iopub.execute_input": "2021-12-03T03:24:47.317425Z",
     "iopub.status.busy": "2021-12-03T03:24:47.316939Z",
     "iopub.status.idle": "2021-12-03T03:24:47.657976Z",
     "shell.execute_reply": "2021-12-03T03:24:47.656885Z",
     "shell.execute_reply.started": "2021-12-03T03:24:47.317382Z"
    }
   },
   "outputs": [
    {
     "data": {
      "image/png": "[encoded data removed]",
      "text/plain": [
       "<Figure size 648x648 with 1 Axes>"
      ]
     },
     "metadata": {
      "needs_background": "light"
     },
     "output_type": "display_data"
    }
   ],
   "source": [
    "plt.figure(figsize=(9, 9))\n",
    "\n",
    "sns.regplot(x=Y_test, y=pred, color='#FF6600')\n",
    "plt.xlabel('Y Test (True Values)')\n",
    "plt.ylabel('Predicted values')\n",
    "\n",
    "plt.show()"
   ]
  },
  {
   "cell_type": "markdown",
   "metadata": {},
   "source": [
    "## IV.2 XGBoost Regression"
   ]
  },
  {
   "cell_type": "code",
   "execution_count": 43,
   "metadata": {
    "ExecuteTime": {
     "end_time": "2022-08-26T09:39:15.865064Z",
     "start_time": "2022-08-26T09:39:14.920526Z"
    },
    "execution": {
     "iopub.execute_input": "2021-12-03T03:24:48.456989Z",
     "iopub.status.busy": "2021-12-03T03:24:48.456752Z",
     "iopub.status.idle": "2021-12-03T03:24:48.479732Z",
     "shell.execute_reply": "2021-12-03T03:24:48.478826Z",
     "shell.execute_reply.started": "2021-12-03T03:24:48.45696Z"
    }
   },
   "outputs": [
    {
     "name": "stdout",
     "output_type": "stream",
     "text": [
      "0.9315257873917138\n"
     ]
    }
   ],
   "source": [
    "import xgboost as xg\n",
    "\n",
    "# create an xgboost regression model\n",
    "model = xg.XGBRegressor(n_estimators=1000,\n",
    "                        max_depth=7,\n",
    "                        eta=0.1,\n",
    "                        subsample=0.7,\n",
    "                        colsample_bytree=0.8)\n",
    "\n",
    "model.fit(X_train, Y_train)\n",
    "pred = model.predict(X_test)\n",
    "\n",
    "print(model.score(X_test, Y_test))"
   ]
  },
  {
   "cell_type": "markdown",
   "metadata": {},
   "source": [
    "## IV.3 Ridge Regression"
   ]
  },
  {
   "cell_type": "code",
   "execution_count": 44,
   "metadata": {
    "ExecuteTime": {
     "end_time": "2022-08-26T09:39:24.605842Z",
     "start_time": "2022-08-26T09:39:24.572043Z"
    },
    "execution": {
     "iopub.execute_input": "2021-12-03T03:24:51.122477Z",
     "iopub.status.busy": "2021-12-03T03:24:51.119069Z",
     "iopub.status.idle": "2021-12-03T03:24:51.133424Z",
     "shell.execute_reply": "2021-12-03T03:24:51.132635Z",
     "shell.execute_reply.started": "2021-12-03T03:24:51.122428Z"
    }
   },
   "outputs": [
    {
     "name": "stdout",
     "output_type": "stream",
     "text": [
      "R2 score 0.8603062079434852\n",
      "RMSE 3190.4679458296932\n"
     ]
    }
   ],
   "source": [
    "from sklearn.linear_model import Ridge, Lasso, ElasticNet\n",
    "from sklearn.metrics import r2_score, mean_squared_error\n",
    "\n",
    "R = Ridge(alpha=0.1)\n",
    "R.fit(X_train, Y_train)\n",
    "y_pred1 = R.predict(X_test)\n",
    "\n",
    "print(\"RMSE\", np.sqrt(mean_squared_error(Y_test, y_pred1)))\n",
    "print(\"R2 score\", r2_score(Y_test, y_pred1))"
   ]
  },
  {
   "cell_type": "markdown",
   "metadata": {},
   "source": [
    "## IV.4 Lasso Regression"
   ]
  },
  {
   "cell_type": "code",
   "execution_count": 45,
   "metadata": {
    "ExecuteTime": {
     "end_time": "2022-08-26T09:39:28.262652Z",
     "start_time": "2022-08-26T09:39:28.231844Z"
    },
    "execution": {
     "iopub.execute_input": "2021-12-03T03:24:51.148396Z",
     "iopub.status.busy": "2021-12-03T03:24:51.147764Z",
     "iopub.status.idle": "2021-12-03T03:24:51.165406Z",
     "shell.execute_reply": "2021-12-03T03:24:51.164316Z",
     "shell.execute_reply.started": "2021-12-03T03:24:51.148345Z"
    }
   },
   "outputs": [
    {
     "name": "stdout",
     "output_type": "stream",
     "text": [
      "RMSE 3191.1670751075017\n",
      "R2 score 0.8602449788559641\n"
     ]
    }
   ],
   "source": [
    "model_lasso = Lasso(alpha=0.1)\n",
    "model_lasso.fit(X_train, Y_train)\n",
    "pred_test_lasso = model_lasso.predict(X_test)\n",
    "\n",
    "print(\"RMSE\", np.sqrt(mean_squared_error(Y_test, pred_test_lasso)))\n",
    "print(\"R2 score\", r2_score(Y_test, pred_test_lasso))"
   ]
  },
  {
   "cell_type": "markdown",
   "metadata": {},
   "source": [
    "## IV.5 Elastic Regression"
   ]
  },
  {
   "cell_type": "code",
   "execution_count": 46,
   "metadata": {
    "ExecuteTime": {
     "end_time": "2022-08-26T09:39:30.548786Z",
     "start_time": "2022-08-26T09:39:30.521075Z"
    },
    "execution": {
     "iopub.execute_input": "2021-12-03T03:24:51.168263Z",
     "iopub.status.busy": "2021-12-03T03:24:51.1676Z",
     "iopub.status.idle": "2021-12-03T03:24:51.181559Z",
     "shell.execute_reply": "2021-12-03T03:24:51.180585Z",
     "shell.execute_reply.started": "2021-12-03T03:24:51.16819Z"
    }
   },
   "outputs": [
    {
     "name": "stdout",
     "output_type": "stream",
     "text": [
      "RMSE 3168.7052116984596\n",
      "R2 score 0.8622054592879703\n"
     ]
    }
   ],
   "source": [
    "model_enet = ElasticNet(alpha=0.1)\n",
    "model_enet.fit(X_train, Y_train)\n",
    "pred_test_enet = model_enet.predict(X_test)\n",
    "\n",
    "print(\"RMSE\", np.sqrt(mean_squared_error(Y_test, pred_test_enet)))\n",
    "print(\"R2 score\", r2_score(Y_test, pred_test_enet))"
   ]
  }
 ],
 "metadata": {
  "kernelspec": {
   "display_name": "Python 3 (ipykernel)",
   "language": "python",
   "name": "python3"
  },
  "language_info": {
   "codemirror_mode": {
    "name": "ipython",
    "version": 3
   },
   "file_extension": ".py",
   "mimetype": "text/x-python",
   "name": "python",
   "nbconvert_exporter": "python",
   "pygments_lexer": "ipython3",
   "version": "3.10.0"
  }
 },
 "nbformat": 4,
 "nbformat_minor": 4
}
